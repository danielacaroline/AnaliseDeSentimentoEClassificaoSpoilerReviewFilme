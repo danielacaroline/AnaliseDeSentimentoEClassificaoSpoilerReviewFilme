{
  "nbformat": 4,
  "nbformat_minor": 0,
  "metadata": {
    "colab": {
      "provenance": [],
      "include_colab_link": true
    },
    "kernelspec": {
      "name": "python3",
      "display_name": "Python 3"
    }
  },
  "cells": [
    {
      "cell_type": "markdown",
      "metadata": {
        "id": "view-in-github",
        "colab_type": "text"
      },
      "source": [
        "<a href=\"https://colab.research.google.com/github/danielacaroline/AnaliseDeSentimentoEClassificaoSpoilerReviewFilme/blob/main/ProjetoFinalPNL.ipynb\" target=\"_parent\"><img src=\"https://colab.research.google.com/assets/colab-badge.svg\" alt=\"Open In Colab\"/></a>"
      ]
    },
    {
      "cell_type": "code",
      "metadata": {
        "id": "BBxcpEDEh1y1",
        "colab": {
          "base_uri": "https://localhost:8080/",
          "height": 615
        },
        "outputId": "884ca19d-3f5f-403b-e871-d069193a387c"
      },
      "source": [
        "!pip install gensim\n",
        "!pip install umap-learn\n",
        "!pip install wikipedia\n",
        "!pip install unidecode"
      ],
      "execution_count": null,
      "outputs": [
        {
          "output_type": "stream",
          "text": [
            "Requirement already satisfied: gensim in /usr/local/lib/python3.6/dist-packages (3.6.0)\n",
            "Requirement already satisfied: six>=1.5.0 in /usr/local/lib/python3.6/dist-packages (from gensim) (1.12.0)\n",
            "Requirement already satisfied: scipy>=0.18.1 in /usr/local/lib/python3.6/dist-packages (from gensim) (1.4.1)\n",
            "Requirement already satisfied: numpy>=1.11.3 in /usr/local/lib/python3.6/dist-packages (from gensim) (1.18.5)\n",
            "Requirement already satisfied: smart-open>=1.2.1 in /usr/local/lib/python3.6/dist-packages (from gensim) (2.0.0)\n",
            "Requirement already satisfied: requests in /usr/local/lib/python3.6/dist-packages (from smart-open>=1.2.1->gensim) (2.23.0)\n",
            "Requirement already satisfied: boto3 in /usr/local/lib/python3.6/dist-packages (from smart-open>=1.2.1->gensim) (1.14.9)\n",
            "Requirement already satisfied: boto in /usr/local/lib/python3.6/dist-packages (from smart-open>=1.2.1->gensim) (2.49.0)\n",
            "Requirement already satisfied: urllib3!=1.25.0,!=1.25.1,<1.26,>=1.21.1 in /usr/local/lib/python3.6/dist-packages (from requests->smart-open>=1.2.1->gensim) (1.24.3)\n",
            "Requirement already satisfied: certifi>=2017.4.17 in /usr/local/lib/python3.6/dist-packages (from requests->smart-open>=1.2.1->gensim) (2020.6.20)\n",
            "Requirement already satisfied: idna<3,>=2.5 in /usr/local/lib/python3.6/dist-packages (from requests->smart-open>=1.2.1->gensim) (2.9)\n",
            "Requirement already satisfied: chardet<4,>=3.0.2 in /usr/local/lib/python3.6/dist-packages (from requests->smart-open>=1.2.1->gensim) (3.0.4)\n",
            "Requirement already satisfied: s3transfer<0.4.0,>=0.3.0 in /usr/local/lib/python3.6/dist-packages (from boto3->smart-open>=1.2.1->gensim) (0.3.3)\n",
            "Requirement already satisfied: jmespath<1.0.0,>=0.7.1 in /usr/local/lib/python3.6/dist-packages (from boto3->smart-open>=1.2.1->gensim) (0.10.0)\n",
            "Requirement already satisfied: botocore<1.18.0,>=1.17.9 in /usr/local/lib/python3.6/dist-packages (from boto3->smart-open>=1.2.1->gensim) (1.17.9)\n",
            "Requirement already satisfied: python-dateutil<3.0.0,>=2.1 in /usr/local/lib/python3.6/dist-packages (from botocore<1.18.0,>=1.17.9->boto3->smart-open>=1.2.1->gensim) (2.8.1)\n",
            "Requirement already satisfied: docutils<0.16,>=0.10 in /usr/local/lib/python3.6/dist-packages (from botocore<1.18.0,>=1.17.9->boto3->smart-open>=1.2.1->gensim) (0.15.2)\n",
            "Requirement already satisfied: umap-learn in /usr/local/lib/python3.6/dist-packages (0.4.4)\n",
            "Requirement already satisfied: scikit-learn>=0.20 in /usr/local/lib/python3.6/dist-packages (from umap-learn) (0.22.2.post1)\n",
            "Requirement already satisfied: numpy>=1.17 in /usr/local/lib/python3.6/dist-packages (from umap-learn) (1.18.5)\n",
            "Requirement already satisfied: tbb in /usr/local/lib/python3.6/dist-packages (from umap-learn) (2020.0.133)\n",
            "Requirement already satisfied: numba!=0.47,>=0.46 in /usr/local/lib/python3.6/dist-packages (from umap-learn) (0.48.0)\n",
            "Requirement already satisfied: scipy>=1.3.1 in /usr/local/lib/python3.6/dist-packages (from umap-learn) (1.4.1)\n",
            "Requirement already satisfied: joblib>=0.11 in /usr/local/lib/python3.6/dist-packages (from scikit-learn>=0.20->umap-learn) (0.15.1)\n",
            "Requirement already satisfied: setuptools in /usr/local/lib/python3.6/dist-packages (from numba!=0.47,>=0.46->umap-learn) (47.3.1)\n",
            "Requirement already satisfied: llvmlite<0.32.0,>=0.31.0dev0 in /usr/local/lib/python3.6/dist-packages (from numba!=0.47,>=0.46->umap-learn) (0.31.0)\n",
            "Requirement already satisfied: wikipedia in /usr/local/lib/python3.6/dist-packages (1.4.0)\n",
            "Requirement already satisfied: beautifulsoup4 in /usr/local/lib/python3.6/dist-packages (from wikipedia) (4.6.3)\n",
            "Requirement already satisfied: requests<3.0.0,>=2.0.0 in /usr/local/lib/python3.6/dist-packages (from wikipedia) (2.23.0)\n",
            "Requirement already satisfied: idna<3,>=2.5 in /usr/local/lib/python3.6/dist-packages (from requests<3.0.0,>=2.0.0->wikipedia) (2.9)\n",
            "Requirement already satisfied: urllib3!=1.25.0,!=1.25.1,<1.26,>=1.21.1 in /usr/local/lib/python3.6/dist-packages (from requests<3.0.0,>=2.0.0->wikipedia) (1.24.3)\n",
            "Requirement already satisfied: chardet<4,>=3.0.2 in /usr/local/lib/python3.6/dist-packages (from requests<3.0.0,>=2.0.0->wikipedia) (3.0.4)\n",
            "Requirement already satisfied: certifi>=2017.4.17 in /usr/local/lib/python3.6/dist-packages (from requests<3.0.0,>=2.0.0->wikipedia) (2020.6.20)\n",
            "Requirement already satisfied: unidecode in /usr/local/lib/python3.6/dist-packages (1.1.1)\n"
          ],
          "name": "stdout"
        }
      ]
    },
    {
      "cell_type": "code",
      "metadata": {
        "id": "MIS7lRd5ik2C",
        "colab": {
          "base_uri": "https://localhost:8080/",
          "height": 139
        },
        "outputId": "29707372-8901-42eb-ea97-d442070f32e2"
      },
      "source": [
        "import zipfile\n",
        "import re\n",
        "import nltk\n",
        "from nltk.util import ngrams\n",
        "from nltk.corpus import stopwords\n",
        "import string\n",
        "from unidecode import unidecode\n",
        "import pandas as pd\n",
        "import bz2\n",
        "import gensim\n",
        "import warnings\n",
        "import numpy as np\n",
        "from gensim.models import word2vec\n",
        "from sklearn.feature_extraction.text import CountVectorizer\n",
        "from scipy.spatial import distance\n",
        "from sklearn.metrics.pairwise import cosine_similarity\n",
        "from tqdm._tqdm_notebook import tqdm_notebook\n",
        "from sklearn.model_selection import train_test_split\n",
        "from sklearn.linear_model import LogisticRegression\n",
        "from sklearn.metrics import classification_report,confusion_matrix,accuracy_score\n",
        "\n",
        "\n",
        "from sklearn.cluster import KMeans\n",
        "from sklearn.datasets import make_blobs\n",
        "\n",
        "from yellowbrick.cluster import KElbowVisualizer\n",
        "\n",
        "import seaborn as sns\n",
        "import plotly.express as px\n",
        "import plotly.graph_objs as go\n",
        "import plotly.figure_factory as ff\n",
        "from plotly.subplots import make_subplots\n",
        "import folium\n",
        "import re\n",
        "\n",
        "import numpy as np\n",
        "\n",
        "warnings.filterwarnings('ignore')\n",
        "tqdm_notebook.pandas()\n",
        "\n",
        "import matplotlib.pyplot as plt\n",
        "%matplotlib inline"
      ],
      "execution_count": null,
      "outputs": [
        {
          "output_type": "stream",
          "text": [
            "/usr/local/lib/python3.6/dist-packages/ipykernel_launcher.py:17: TqdmDeprecationWarning: This function will be removed in tqdm==5.0.0\n",
            "Please use `tqdm.notebook.*` instead of `tqdm._tqdm_notebook.*`\n",
            "/usr/local/lib/python3.6/dist-packages/sklearn/utils/deprecation.py:144: FutureWarning: The sklearn.metrics.classification module is  deprecated in version 0.22 and will be removed in version 0.24. The corresponding classes / functions should instead be imported from sklearn.metrics. Anything that cannot be imported from sklearn.metrics is now part of the private API.\n",
            "  warnings.warn(message, FutureWarning)\n",
            "/usr/local/lib/python3.6/dist-packages/statsmodels/tools/_testing.py:19: FutureWarning: pandas.util.testing is deprecated. Use the functions in the public API at pandas.testing instead.\n",
            "  import pandas.util.testing as tm\n"
          ],
          "name": "stderr"
        }
      ]
    },
    {
      "cell_type": "code",
      "metadata": {
        "id": "_D2UFKZMnCyK",
        "colab": {
          "base_uri": "https://localhost:8080/",
          "height": 68
        },
        "outputId": "0d78b53c-c47b-495e-8ab6-fc113e725f7c"
      },
      "source": [
        " nltk.download('stopwords')"
      ],
      "execution_count": null,
      "outputs": [
        {
          "output_type": "stream",
          "text": [
            "[nltk_data] Downloading package stopwords to /root/nltk_data...\n",
            "[nltk_data]   Package stopwords is already up-to-date!\n"
          ],
          "name": "stdout"
        },
        {
          "output_type": "execute_result",
          "data": {
            "text/plain": [
              "True"
            ]
          },
          "metadata": {
            "tags": []
          },
          "execution_count": 3
        }
      ]
    },
    {
      "cell_type": "code",
      "metadata": {
        "id": "aDSkGHwIe2oF",
        "colab": {
          "base_uri": "https://localhost:8080/",
          "height": 34
        },
        "outputId": "87d051e3-62c1-48c0-c700-9cad43017d8b"
      },
      "source": [
        "from google.colab import drive\n",
        "drive.mount('/content/drive')"
      ],
      "execution_count": null,
      "outputs": [
        {
          "output_type": "stream",
          "text": [
            "Drive already mounted at /content/drive; to attempt to forcibly remount, call drive.mount(\"/content/drive\", force_remount=True).\n"
          ],
          "name": "stdout"
        }
      ]
    },
    {
      "cell_type": "code",
      "metadata": {
        "id": "OIyXyr22ok9k"
      },
      "source": [
        "newfilepath = \"/content/drive/My Drive/embedding_wiki_100d_en.txt\"\n",
        "filepath = \"/content/drive/My Drive/enwiki_20180420_100d.txt.bz2\""
      ],
      "execution_count": null,
      "outputs": []
    },
    {
      "cell_type": "code",
      "metadata": {
        "id": "MXzCUaL0Za3O",
        "colab": {
          "base_uri": "https://localhost:8080/",
          "height": 51
        },
        "outputId": "5a89aff5-1aaa-47bb-8688-94e24263f36e"
      },
      "source": [
        "%%time\n",
        "with open(newfilepath, 'wb') as new_file, bz2.BZ2File(filepath, 'rb') as file:\n",
        "    for data in iter(lambda : file.read(100 * 1024), b''):\n",
        "        new_file.write(data)\n",
        " "
      ],
      "execution_count": null,
      "outputs": [
        {
          "output_type": "stream",
          "text": [
            "CPU times: user 4min 24s, sys: 4.97 s, total: 4min 29s\n",
            "Wall time: 4min 48s\n"
          ],
          "name": "stdout"
        }
      ]
    },
    {
      "cell_type": "code",
      "metadata": {
        "id": "x29-U4GNZeBN",
        "colab": {
          "base_uri": "https://localhost:8080/",
          "height": 51
        },
        "outputId": "5c4334ac-0dbb-4e05-d44f-b7fbf45cd47c"
      },
      "source": [
        "%%time\n",
        "# carregar\n",
        "word_vectors = gensim.models.KeyedVectors.load_word2vec_format(newfilepath, binary=False,unicode_errors='ignore' )"
      ],
      "execution_count": null,
      "outputs": [
        {
          "output_type": "stream",
          "text": [
            "CPU times: user 6min 57s, sys: 6.22 s, total: 7min 3s\n",
            "Wall time: 7min 16s\n"
          ],
          "name": "stdout"
        }
      ]
    },
    {
      "cell_type": "code",
      "metadata": {
        "id": "1Edf_U3SRplH"
      },
      "source": [
        "word_vectors.wv.save_word2vec_format('word_vector.bin', binary=True)"
      ],
      "execution_count": null,
      "outputs": []
    },
    {
      "cell_type": "markdown",
      "metadata": {
        "id": "igphV9aKfWeK"
      },
      "source": [
        "## Carregando as bases de filme"
      ]
    },
    {
      "cell_type": "code",
      "metadata": {
        "id": "LP4v9_EtpyTk"
      },
      "source": [
        "#carregando os dados que serão analisados\n",
        "filepath = '/content/drive/My Drive/reviews_movies.zip'\n",
        "newfilepath = '/content/drive/My Drive/reviews_movies'\n",
        "\n",
        "with zipfile.ZipFile(filepath, 'r') as zip_ref:\n",
        "    zip_ref.extractall(newfilepath)"
      ],
      "execution_count": null,
      "outputs": []
    },
    {
      "cell_type": "code",
      "metadata": {
        "id": "K9ZR9NehnYWU"
      },
      "source": [
        "#organizando dados em uma tabela\n",
        "import pandas as pd\n",
        "\n",
        "filepath1 = r'/content/drive/My Drive/reviews_movies/IMDB_movie_details.json'\n",
        "filepath2 = r'/content/drive/My Drive/reviews_movies/IMDB_reviews.json'\n",
        "\n",
        "movies_details = pd.read_json(filepath1, lines = True)\n",
        "movies_reviews = pd.read_json(filepath2, lines = True)"
      ],
      "execution_count": null,
      "outputs": []
    },
    {
      "cell_type": "code",
      "metadata": {
        "id": "ehy_Kv_qe8Q0"
      },
      "source": [
        "filepath3 = r'/content/drive/My Drive/IMDb_movies.csv'\n",
        "movies = pd.read_csv(filepath3)"
      ],
      "execution_count": null,
      "outputs": []
    },
    {
      "cell_type": "code",
      "metadata": {
        "id": "EfzMSG-yAH8s",
        "colab": {
          "base_uri": "https://localhost:8080/",
          "height": 666
        },
        "outputId": "d69dee75-827d-49a9-e7d1-230e3c98a402"
      },
      "source": [
        "movies.head()"
      ],
      "execution_count": null,
      "outputs": [
        {
          "output_type": "execute_result",
          "data": {
            "text/html": [
              "<div>\n",
              "<style scoped>\n",
              "    .dataframe tbody tr th:only-of-type {\n",
              "        vertical-align: middle;\n",
              "    }\n",
              "\n",
              "    .dataframe tbody tr th {\n",
              "        vertical-align: top;\n",
              "    }\n",
              "\n",
              "    .dataframe thead th {\n",
              "        text-align: right;\n",
              "    }\n",
              "</style>\n",
              "<table border=\"1\" class=\"dataframe\">\n",
              "  <thead>\n",
              "    <tr style=\"text-align: right;\">\n",
              "      <th></th>\n",
              "      <th>imdb_title_id</th>\n",
              "      <th>title</th>\n",
              "      <th>original_title</th>\n",
              "      <th>year</th>\n",
              "      <th>date_published</th>\n",
              "      <th>genre</th>\n",
              "      <th>duration</th>\n",
              "      <th>country</th>\n",
              "      <th>language</th>\n",
              "      <th>director</th>\n",
              "      <th>writer</th>\n",
              "      <th>production_company</th>\n",
              "      <th>actors</th>\n",
              "      <th>description</th>\n",
              "      <th>avg_vote</th>\n",
              "      <th>votes</th>\n",
              "      <th>budget</th>\n",
              "      <th>usa_gross_income</th>\n",
              "      <th>worlwide_gross_income</th>\n",
              "      <th>metascore</th>\n",
              "      <th>reviews_from_users</th>\n",
              "      <th>reviews_from_critics</th>\n",
              "    </tr>\n",
              "  </thead>\n",
              "  <tbody>\n",
              "    <tr>\n",
              "      <th>0</th>\n",
              "      <td>tt0000574</td>\n",
              "      <td>The Story of the Kelly Gang</td>\n",
              "      <td>The Story of the Kelly Gang</td>\n",
              "      <td>1906</td>\n",
              "      <td>1906-12-26</td>\n",
              "      <td>Biography, Crime, Drama</td>\n",
              "      <td>70</td>\n",
              "      <td>Australia</td>\n",
              "      <td>NaN</td>\n",
              "      <td>Charles Tait</td>\n",
              "      <td>Charles Tait</td>\n",
              "      <td>J. and N. Tait</td>\n",
              "      <td>Elizabeth Tait, John Tait, Norman Campbell, Be...</td>\n",
              "      <td>True story of notorious Australian outlaw Ned ...</td>\n",
              "      <td>6.1</td>\n",
              "      <td>537</td>\n",
              "      <td>$ 2250</td>\n",
              "      <td>NaN</td>\n",
              "      <td>NaN</td>\n",
              "      <td>NaN</td>\n",
              "      <td>7.0</td>\n",
              "      <td>7.0</td>\n",
              "    </tr>\n",
              "    <tr>\n",
              "      <th>1</th>\n",
              "      <td>tt0001892</td>\n",
              "      <td>Den sorte drøm</td>\n",
              "      <td>Den sorte drøm</td>\n",
              "      <td>1911</td>\n",
              "      <td>1911-08-19</td>\n",
              "      <td>Drama</td>\n",
              "      <td>53</td>\n",
              "      <td>Germany, Denmark</td>\n",
              "      <td>NaN</td>\n",
              "      <td>Urban Gad</td>\n",
              "      <td>Urban Gad, Gebhard Schätzler-Perasini</td>\n",
              "      <td>Fotorama</td>\n",
              "      <td>Asta Nielsen, Valdemar Psilander, Gunnar Helse...</td>\n",
              "      <td>Two men of high rank are both wooing the beaut...</td>\n",
              "      <td>5.9</td>\n",
              "      <td>171</td>\n",
              "      <td>NaN</td>\n",
              "      <td>NaN</td>\n",
              "      <td>NaN</td>\n",
              "      <td>NaN</td>\n",
              "      <td>4.0</td>\n",
              "      <td>2.0</td>\n",
              "    </tr>\n",
              "    <tr>\n",
              "      <th>2</th>\n",
              "      <td>tt0002101</td>\n",
              "      <td>Cleopatra</td>\n",
              "      <td>Cleopatra</td>\n",
              "      <td>1912</td>\n",
              "      <td>1912-11-13</td>\n",
              "      <td>Drama, History</td>\n",
              "      <td>100</td>\n",
              "      <td>USA</td>\n",
              "      <td>English</td>\n",
              "      <td>Charles L. Gaskill</td>\n",
              "      <td>Victorien Sardou</td>\n",
              "      <td>Helen Gardner Picture Players</td>\n",
              "      <td>Helen Gardner, Pearl Sindelar, Miss Fielding, ...</td>\n",
              "      <td>The fabled queen of Egypt's affair with Roman ...</td>\n",
              "      <td>5.2</td>\n",
              "      <td>420</td>\n",
              "      <td>$ 45000</td>\n",
              "      <td>NaN</td>\n",
              "      <td>NaN</td>\n",
              "      <td>NaN</td>\n",
              "      <td>24.0</td>\n",
              "      <td>3.0</td>\n",
              "    </tr>\n",
              "    <tr>\n",
              "      <th>3</th>\n",
              "      <td>tt0002130</td>\n",
              "      <td>L'Inferno</td>\n",
              "      <td>L'Inferno</td>\n",
              "      <td>1911</td>\n",
              "      <td>1911-03-06</td>\n",
              "      <td>Adventure, Drama, Fantasy</td>\n",
              "      <td>68</td>\n",
              "      <td>Italy</td>\n",
              "      <td>Italian</td>\n",
              "      <td>Francesco Bertolini, Adolfo Padovan</td>\n",
              "      <td>Dante Alighieri</td>\n",
              "      <td>Milano Film</td>\n",
              "      <td>Salvatore Papa, Arturo Pirovano, Giuseppe de L...</td>\n",
              "      <td>Loosely adapted from Dante's Divine Comedy and...</td>\n",
              "      <td>7.0</td>\n",
              "      <td>2019</td>\n",
              "      <td>NaN</td>\n",
              "      <td>NaN</td>\n",
              "      <td>NaN</td>\n",
              "      <td>NaN</td>\n",
              "      <td>28.0</td>\n",
              "      <td>14.0</td>\n",
              "    </tr>\n",
              "    <tr>\n",
              "      <th>4</th>\n",
              "      <td>tt0002199</td>\n",
              "      <td>From the Manger to the Cross; or, Jesus of Naz...</td>\n",
              "      <td>From the Manger to the Cross; or, Jesus of Naz...</td>\n",
              "      <td>1912</td>\n",
              "      <td>1913</td>\n",
              "      <td>Biography, Drama</td>\n",
              "      <td>60</td>\n",
              "      <td>USA</td>\n",
              "      <td>English</td>\n",
              "      <td>Sidney Olcott</td>\n",
              "      <td>Gene Gauntier</td>\n",
              "      <td>Kalem Company</td>\n",
              "      <td>R. Henderson Bland, Percy Dyer, Gene Gauntier,...</td>\n",
              "      <td>An account of the life of Jesus Christ, based ...</td>\n",
              "      <td>5.7</td>\n",
              "      <td>438</td>\n",
              "      <td>NaN</td>\n",
              "      <td>NaN</td>\n",
              "      <td>NaN</td>\n",
              "      <td>NaN</td>\n",
              "      <td>12.0</td>\n",
              "      <td>5.0</td>\n",
              "    </tr>\n",
              "  </tbody>\n",
              "</table>\n",
              "</div>"
            ],
            "text/plain": [
              "  imdb_title_id  ... reviews_from_critics\n",
              "0     tt0000574  ...                  7.0\n",
              "1     tt0001892  ...                  2.0\n",
              "2     tt0002101  ...                  3.0\n",
              "3     tt0002130  ...                 14.0\n",
              "4     tt0002199  ...                  5.0\n",
              "\n",
              "[5 rows x 22 columns]"
            ]
          },
          "metadata": {
            "tags": []
          },
          "execution_count": 224
        }
      ]
    },
    {
      "cell_type": "code",
      "metadata": {
        "id": "Ik-z5x3u4ir4",
        "colab": {
          "base_uri": "https://localhost:8080/",
          "height": 204
        },
        "outputId": "9025b89d-f926-49a9-f6a8-833026a6a922"
      },
      "source": [
        "movies_details.head()"
      ],
      "execution_count": null,
      "outputs": [
        {
          "output_type": "execute_result",
          "data": {
            "text/html": [
              "<div>\n",
              "<style scoped>\n",
              "    .dataframe tbody tr th:only-of-type {\n",
              "        vertical-align: middle;\n",
              "    }\n",
              "\n",
              "    .dataframe tbody tr th {\n",
              "        vertical-align: top;\n",
              "    }\n",
              "\n",
              "    .dataframe thead th {\n",
              "        text-align: right;\n",
              "    }\n",
              "</style>\n",
              "<table border=\"1\" class=\"dataframe\">\n",
              "  <thead>\n",
              "    <tr style=\"text-align: right;\">\n",
              "      <th></th>\n",
              "      <th>movie_id</th>\n",
              "      <th>plot_summary</th>\n",
              "      <th>duration</th>\n",
              "      <th>genre</th>\n",
              "      <th>rating</th>\n",
              "      <th>release_date</th>\n",
              "      <th>plot_synopsis</th>\n",
              "    </tr>\n",
              "  </thead>\n",
              "  <tbody>\n",
              "    <tr>\n",
              "      <th>0</th>\n",
              "      <td>tt0105112</td>\n",
              "      <td>Former CIA analyst, Jack Ryan is in England wi...</td>\n",
              "      <td>1h 57min</td>\n",
              "      <td>[Action, Thriller]</td>\n",
              "      <td>6.9</td>\n",
              "      <td>1992-06-05</td>\n",
              "      <td>Jack Ryan (Ford) is on a \"working vacation\" in...</td>\n",
              "    </tr>\n",
              "    <tr>\n",
              "      <th>1</th>\n",
              "      <td>tt1204975</td>\n",
              "      <td>Billy (Michael Douglas), Paddy (Robert De Niro...</td>\n",
              "      <td>1h 45min</td>\n",
              "      <td>[Comedy]</td>\n",
              "      <td>6.6</td>\n",
              "      <td>2013-11-01</td>\n",
              "      <td>Four boys around the age of 10 are friends in ...</td>\n",
              "    </tr>\n",
              "    <tr>\n",
              "      <th>2</th>\n",
              "      <td>tt0243655</td>\n",
              "      <td>The setting is Camp Firewood, the year 1981. I...</td>\n",
              "      <td>1h 37min</td>\n",
              "      <td>[Comedy, Romance]</td>\n",
              "      <td>6.7</td>\n",
              "      <td>2002-04-11</td>\n",
              "      <td></td>\n",
              "    </tr>\n",
              "    <tr>\n",
              "      <th>3</th>\n",
              "      <td>tt0040897</td>\n",
              "      <td>Fred C. Dobbs and Bob Curtin, both down on the...</td>\n",
              "      <td>2h 6min</td>\n",
              "      <td>[Adventure, Drama, Western]</td>\n",
              "      <td>8.3</td>\n",
              "      <td>1948-01-24</td>\n",
              "      <td>Fred Dobbs (Humphrey Bogart) and Bob Curtin (T...</td>\n",
              "    </tr>\n",
              "    <tr>\n",
              "      <th>4</th>\n",
              "      <td>tt0126886</td>\n",
              "      <td>Tracy Flick is running unopposed for this year...</td>\n",
              "      <td>1h 43min</td>\n",
              "      <td>[Comedy, Drama, Romance]</td>\n",
              "      <td>7.3</td>\n",
              "      <td>1999-05-07</td>\n",
              "      <td>Jim McAllister (Matthew Broderick) is a much-a...</td>\n",
              "    </tr>\n",
              "  </tbody>\n",
              "</table>\n",
              "</div>"
            ],
            "text/plain": [
              "    movie_id  ...                                      plot_synopsis\n",
              "0  tt0105112  ...  Jack Ryan (Ford) is on a \"working vacation\" in...\n",
              "1  tt1204975  ...  Four boys around the age of 10 are friends in ...\n",
              "2  tt0243655  ...                                                   \n",
              "3  tt0040897  ...  Fred Dobbs (Humphrey Bogart) and Bob Curtin (T...\n",
              "4  tt0126886  ...  Jim McAllister (Matthew Broderick) is a much-a...\n",
              "\n",
              "[5 rows x 7 columns]"
            ]
          },
          "metadata": {
            "tags": []
          },
          "execution_count": 11
        }
      ]
    },
    {
      "cell_type": "code",
      "metadata": {
        "id": "XcHvvgBX-iQR",
        "colab": {
          "base_uri": "https://localhost:8080/",
          "height": 34
        },
        "outputId": "1f2cd1e3-4694-4c70-e911-b585908d2674"
      },
      "source": [
        "movies_details.shape"
      ],
      "execution_count": null,
      "outputs": [
        {
          "output_type": "execute_result",
          "data": {
            "text/plain": [
              "(1572, 7)"
            ]
          },
          "metadata": {
            "tags": []
          },
          "execution_count": 12
        }
      ]
    },
    {
      "cell_type": "markdown",
      "metadata": {
        "id": "W_MGV0dDfoAd"
      },
      "source": [
        "##Limparando a base movie_details\n",
        "\n",
        "Reirando todas as linhas que contêm célula vazia"
      ]
    },
    {
      "cell_type": "code",
      "metadata": {
        "id": "L_wCpe2PwQba"
      },
      "source": [
        "movies_details = movies_details.replace('',np.nan)\n"
      ],
      "execution_count": null,
      "outputs": []
    },
    {
      "cell_type": "code",
      "metadata": {
        "id": "thjBzHgHy42D"
      },
      "source": [
        "movies_details = movies_details.dropna()"
      ],
      "execution_count": null,
      "outputs": []
    },
    {
      "cell_type": "code",
      "metadata": {
        "id": "5ZcshUOIJAIs",
        "colab": {
          "base_uri": "https://localhost:8080/",
          "height": 34
        },
        "outputId": "2565b0d8-9752-471b-e181-3e9b716a944c"
      },
      "source": [
        "movies_details.shape"
      ],
      "execution_count": null,
      "outputs": [
        {
          "output_type": "execute_result",
          "data": {
            "text/plain": [
              "(1339, 7)"
            ]
          },
          "metadata": {
            "tags": []
          },
          "execution_count": 15
        }
      ]
    },
    {
      "cell_type": "code",
      "metadata": {
        "id": "2kf54WMn4nhW",
        "colab": {
          "base_uri": "https://localhost:8080/",
          "height": 204
        },
        "outputId": "43cb276c-bf7f-4f2b-8ebd-a8ded8ac3ac6"
      },
      "source": [
        "movies_reviews.head()"
      ],
      "execution_count": null,
      "outputs": [
        {
          "output_type": "execute_result",
          "data": {
            "text/html": [
              "<div>\n",
              "<style scoped>\n",
              "    .dataframe tbody tr th:only-of-type {\n",
              "        vertical-align: middle;\n",
              "    }\n",
              "\n",
              "    .dataframe tbody tr th {\n",
              "        vertical-align: top;\n",
              "    }\n",
              "\n",
              "    .dataframe thead th {\n",
              "        text-align: right;\n",
              "    }\n",
              "</style>\n",
              "<table border=\"1\" class=\"dataframe\">\n",
              "  <thead>\n",
              "    <tr style=\"text-align: right;\">\n",
              "      <th></th>\n",
              "      <th>review_date</th>\n",
              "      <th>movie_id</th>\n",
              "      <th>user_id</th>\n",
              "      <th>is_spoiler</th>\n",
              "      <th>review_text</th>\n",
              "      <th>rating</th>\n",
              "      <th>review_summary</th>\n",
              "    </tr>\n",
              "  </thead>\n",
              "  <tbody>\n",
              "    <tr>\n",
              "      <th>0</th>\n",
              "      <td>10 February 2006</td>\n",
              "      <td>tt0111161</td>\n",
              "      <td>ur1898687</td>\n",
              "      <td>True</td>\n",
              "      <td>In its Oscar year, Shawshank Redemption (writt...</td>\n",
              "      <td>10</td>\n",
              "      <td>A classic piece of unforgettable film-making.</td>\n",
              "    </tr>\n",
              "    <tr>\n",
              "      <th>1</th>\n",
              "      <td>6 September 2000</td>\n",
              "      <td>tt0111161</td>\n",
              "      <td>ur0842118</td>\n",
              "      <td>True</td>\n",
              "      <td>The Shawshank Redemption is without a doubt on...</td>\n",
              "      <td>10</td>\n",
              "      <td>Simply amazing. The best film of the 90's.</td>\n",
              "    </tr>\n",
              "    <tr>\n",
              "      <th>2</th>\n",
              "      <td>3 August 2001</td>\n",
              "      <td>tt0111161</td>\n",
              "      <td>ur1285640</td>\n",
              "      <td>True</td>\n",
              "      <td>I believe that this film is the best story eve...</td>\n",
              "      <td>8</td>\n",
              "      <td>The best story ever told on film</td>\n",
              "    </tr>\n",
              "    <tr>\n",
              "      <th>3</th>\n",
              "      <td>1 September 2002</td>\n",
              "      <td>tt0111161</td>\n",
              "      <td>ur1003471</td>\n",
              "      <td>True</td>\n",
              "      <td>**Yes, there are SPOILERS here**This film has ...</td>\n",
              "      <td>10</td>\n",
              "      <td>Busy dying or busy living?</td>\n",
              "    </tr>\n",
              "    <tr>\n",
              "      <th>4</th>\n",
              "      <td>20 May 2004</td>\n",
              "      <td>tt0111161</td>\n",
              "      <td>ur0226855</td>\n",
              "      <td>True</td>\n",
              "      <td>At the heart of this extraordinary movie is a ...</td>\n",
              "      <td>8</td>\n",
              "      <td>Great story, wondrously told and acted</td>\n",
              "    </tr>\n",
              "  </tbody>\n",
              "</table>\n",
              "</div>"
            ],
            "text/plain": [
              "        review_date  ...                                 review_summary\n",
              "0  10 February 2006  ...  A classic piece of unforgettable film-making.\n",
              "1  6 September 2000  ...     Simply amazing. The best film of the 90's.\n",
              "2     3 August 2001  ...               The best story ever told on film\n",
              "3  1 September 2002  ...                     Busy dying or busy living?\n",
              "4       20 May 2004  ...         Great story, wondrously told and acted\n",
              "\n",
              "[5 rows x 7 columns]"
            ]
          },
          "metadata": {
            "tags": []
          },
          "execution_count": 16
        }
      ]
    },
    {
      "cell_type": "code",
      "metadata": {
        "id": "XyV-Bhgv-ml3",
        "colab": {
          "base_uri": "https://localhost:8080/",
          "height": 34
        },
        "outputId": "f5b774e2-0637-49bf-b497-2fbd6961faee"
      },
      "source": [
        "movies_reviews.shape"
      ],
      "execution_count": null,
      "outputs": [
        {
          "output_type": "execute_result",
          "data": {
            "text/plain": [
              "(573913, 7)"
            ]
          },
          "metadata": {
            "tags": []
          },
          "execution_count": 17
        }
      ]
    },
    {
      "cell_type": "code",
      "metadata": {
        "id": "TWJQ5-9kRocL"
      },
      "source": [
        "movies_reviews = movies_reviews.replace('',np.nan)"
      ],
      "execution_count": null,
      "outputs": []
    },
    {
      "cell_type": "code",
      "metadata": {
        "id": "ORePeoroRrUD"
      },
      "source": [
        "movies_reviews = movies_reviews.dropna()"
      ],
      "execution_count": null,
      "outputs": []
    },
    {
      "cell_type": "code",
      "metadata": {
        "id": "UJUrNh5KRvVn",
        "colab": {
          "base_uri": "https://localhost:8080/",
          "height": 34
        },
        "outputId": "3e69fd4b-704d-4ec8-925e-2cfa2a9dc9d2"
      },
      "source": [
        "movies_reviews.shape"
      ],
      "execution_count": null,
      "outputs": [
        {
          "output_type": "execute_result",
          "data": {
            "text/plain": [
              "(573911, 7)"
            ]
          },
          "metadata": {
            "tags": []
          },
          "execution_count": 20
        }
      ]
    },
    {
      "cell_type": "markdown",
      "metadata": {
        "id": "6wvHvD0lf6bC"
      },
      "source": [
        "## Pré processando as sipnopses e resumos dos filmes"
      ]
    },
    {
      "cell_type": "code",
      "metadata": {
        "id": "G53MnuwmnAiy"
      },
      "source": [
        "#pre processamento dos dados\n",
        "def pre_text_processing(corpus):\n",
        "    #tokenizacao\"\n",
        "    corpus_alt = re.findall(r\"\\w+(?:'\\w+)?|[^\\w\\s]\", corpus)\n",
        "    #lowcase\n",
        "    corpus_alt = [t.lower() for t in corpus_alt]\n",
        "    #remove stopwords\"\n",
        "    portugues_stops = stopwords.words('english')\n",
        "    corpus_alt = [t for t in corpus_alt if t not in portugues_stops]\n",
        "    #remove pontuação\"\n",
        "    corpus_alt = [t for t in corpus_alt if t not in string.punctuation]\n",
        "    return corpus_alt"
      ],
      "execution_count": null,
      "outputs": []
    },
    {
      "cell_type": "code",
      "metadata": {
        "id": "J5QSjbiTAOba"
      },
      "source": [
        "#pre processamento sinopses\n",
        "synopses_preprocessadas = [pre_text_processing (synopse) for synopse in movies_details['plot_synopsis']]"
      ],
      "execution_count": null,
      "outputs": []
    },
    {
      "cell_type": "code",
      "metadata": {
        "id": "H7umaNozsCIJ"
      },
      "source": [
        "#pre processamento sinopses\n",
        "resumos_preprocessados = [pre_text_processing (synopse) for synopse in movies_details['plot_summary']]"
      ],
      "execution_count": null,
      "outputs": []
    },
    {
      "cell_type": "code",
      "metadata": {
        "id": "qVPw9sW577jc",
        "colab": {
          "base_uri": "https://localhost:8080/",
          "height": 34
        },
        "outputId": "d8f729e0-fe78-4f9d-99cd-de806e206f80"
      },
      "source": [
        "len(synopses_preprocessadas)"
      ],
      "execution_count": null,
      "outputs": [
        {
          "output_type": "execute_result",
          "data": {
            "text/plain": [
              "1339"
            ]
          },
          "metadata": {
            "tags": []
          },
          "execution_count": 32
        }
      ]
    },
    {
      "cell_type": "markdown",
      "metadata": {
        "id": "KRllVXJbgCEP"
      },
      "source": [
        "##Embedding"
      ]
    },
    {
      "cell_type": "code",
      "metadata": {
        "id": "4p17Hrr5u4JN"
      },
      "source": [
        "def get_embeddings(tokens):\n",
        "    return np.mean(np.array([word_vectors[t] for t in tokens if t in word_vectors.vocab]), axis=0)"
      ],
      "execution_count": null,
      "outputs": []
    },
    {
      "cell_type": "code",
      "metadata": {
        "id": "58qHVLJnu6Y2"
      },
      "source": [
        "embedding_expectations = [get_embeddings(e) for e in synopses_preprocessadas]"
      ],
      "execution_count": null,
      "outputs": []
    },
    {
      "cell_type": "code",
      "metadata": {
        "id": "RMvu7NWWsMTx"
      },
      "source": [
        "embedding_expectations_sumary =  [get_embeddings(e) for e in resumos_preprocessados]"
      ],
      "execution_count": null,
      "outputs": []
    },
    {
      "cell_type": "code",
      "metadata": {
        "id": "tU8iDeHklX8c",
        "colab": {
          "base_uri": "https://localhost:8080/",
          "height": 34
        },
        "outputId": "8d308652-efcf-444e-de64-873a027cc344"
      },
      "source": [
        "np.array(embedding_expectations).shape"
      ],
      "execution_count": null,
      "outputs": [
        {
          "output_type": "execute_result",
          "data": {
            "text/plain": [
              "(1339, 100)"
            ]
          },
          "metadata": {
            "tags": []
          },
          "execution_count": 35
        }
      ]
    },
    {
      "cell_type": "markdown",
      "metadata": {
        "id": "i0rqVMGdgGyO"
      },
      "source": [
        "##Kmeans"
      ]
    },
    {
      "cell_type": "code",
      "metadata": {
        "id": "BRdy6hSrSmKh",
        "colab": {
          "base_uri": "https://localhost:8080/",
          "height": 299
        },
        "outputId": "d36cfb25-0819-46e8-b6d1-fc53753248fb"
      },
      "source": [
        "model = KMeans(random_state=92)\n",
        "visualizer = KElbowVisualizer(model, k=(2,12), colors = 'yellowbrick')\n",
        "visualizer.fit(np.array(embedding_expectations)) "
      ],
      "execution_count": null,
      "outputs": [
        {
          "output_type": "execute_result",
          "data": {
            "text/plain": [
              "KElbowVisualizer(ax=<matplotlib.axes._subplots.AxesSubplot object at 0x7f5824fe2e10>,\n",
              "                 k=None, metric=None, model=None, timings=True)"
            ]
          },
          "metadata": {
            "tags": []
          },
          "execution_count": 73
        },
        {
          "output_type": "display_data",
          "data": {
            "image/png": "[encoded data removed]",
            "text/plain": [
              "<Figure size 432x288 with 2 Axes>"
            ]
          },
          "metadata": {
            "tags": [],
            "needs_background": "light"
          }
        }
      ]
    },
    {
      "cell_type": "code",
      "metadata": {
        "id": "4qe6Vh5IsVFU",
        "colab": {
          "base_uri": "https://localhost:8080/",
          "height": 299
        },
        "outputId": "6da31a65-5334-4f59-fd3e-6a6b3e8b0d23"
      },
      "source": [
        "model = KMeans(random_state=92)\n",
        "visualizer = KElbowVisualizer(model, k=(2,12), colors = 'yellowbrick')\n",
        "visualizer.fit(np.array(embedding_expectations_sumary))"
      ],
      "execution_count": null,
      "outputs": [
        {
          "output_type": "execute_result",
          "data": {
            "text/plain": [
              "KElbowVisualizer(ax=<matplotlib.axes._subplots.AxesSubplot object at 0x7f0fc639ad68>,\n",
              "                 k=None, metric=None, model=None, timings=True)"
            ]
          },
          "metadata": {
            "tags": []
          },
          "execution_count": 123
        },
        {
          "output_type": "display_data",
          "data": {
            "image/png": "[encoded data removed]",
            "text/plain": [
              "<Figure size 432x288 with 2 Axes>"
            ]
          },
          "metadata": {
            "tags": [],
            "needs_background": "light"
          }
        }
      ]
    },
    {
      "cell_type": "code",
      "metadata": {
        "id": "T_bXrTvVv12T"
      },
      "source": [
        "model = KMeans(n_clusters=8, random_state=92)"
      ],
      "execution_count": null,
      "outputs": []
    },
    {
      "cell_type": "code",
      "metadata": {
        "id": "o2rjx0oewJK9",
        "colab": {
          "base_uri": "https://localhost:8080/",
          "height": 68
        },
        "outputId": "6e48092c-839c-4ee5-9870-73c1257c689a"
      },
      "source": [
        "model.fit(embedding_expectations)"
      ],
      "execution_count": null,
      "outputs": [
        {
          "output_type": "execute_result",
          "data": {
            "text/plain": [
              "KMeans(algorithm='auto', copy_x=True, init='k-means++', max_iter=300,\n",
              "       n_clusters=8, n_init=10, n_jobs=None, precompute_distances='auto',\n",
              "       random_state=92, tol=0.0001, verbose=0)"
            ]
          },
          "metadata": {
            "tags": []
          },
          "execution_count": 170
        }
      ]
    },
    {
      "cell_type": "code",
      "metadata": {
        "id": "5sifYcm_serX"
      },
      "source": [
        "model_sumary = KMeans(n_clusters=8, random_state=92)"
      ],
      "execution_count": null,
      "outputs": []
    },
    {
      "cell_type": "code",
      "metadata": {
        "id": "NeWq4pWEsqOo",
        "colab": {
          "base_uri": "https://localhost:8080/",
          "height": 68
        },
        "outputId": "e0fe1d11-778d-4ccb-9628-6a6a671f7cbe"
      },
      "source": [
        "model_sumary.fit(embedding_expectations_sumary)"
      ],
      "execution_count": null,
      "outputs": [
        {
          "output_type": "execute_result",
          "data": {
            "text/plain": [
              "KMeans(algorithm='auto', copy_x=True, init='k-means++', max_iter=300,\n",
              "       n_clusters=8, n_init=10, n_jobs=None, precompute_distances='auto',\n",
              "       random_state=92, tol=0.0001, verbose=0)"
            ]
          },
          "metadata": {
            "tags": []
          },
          "execution_count": 172
        }
      ]
    },
    {
      "cell_type": "code",
      "metadata": {
        "id": "je9YtkC1wP86",
        "colab": {
          "base_uri": "https://localhost:8080/",
          "height": 34
        },
        "outputId": "58759669-9bc2-4598-8c6d-53ac12460664"
      },
      "source": [
        "labels = model.labels_\n",
        "labels"
      ],
      "execution_count": null,
      "outputs": [
        {
          "output_type": "execute_result",
          "data": {
            "text/plain": [
              "array([4, 1, 6, ..., 6, 1, 5], dtype=int32)"
            ]
          },
          "metadata": {
            "tags": []
          },
          "execution_count": 173
        }
      ]
    },
    {
      "cell_type": "code",
      "metadata": {
        "id": "c0u2uQz_svLh"
      },
      "source": [
        "labels_sumary = model_sumary.labels_"
      ],
      "execution_count": null,
      "outputs": []
    },
    {
      "cell_type": "code",
      "metadata": {
        "id": "dcx2jM2mxFHE"
      },
      "source": [
        "movies_details['cluster'] = labels"
      ],
      "execution_count": null,
      "outputs": []
    },
    {
      "cell_type": "code",
      "metadata": {
        "id": "we4Mnx85s1Nq"
      },
      "source": [
        "movies_details['cluster_sumary'] = labels_sumary"
      ],
      "execution_count": null,
      "outputs": []
    },
    {
      "cell_type": "code",
      "metadata": {
        "id": "-jjTxzdf5nB7",
        "colab": {
          "base_uri": "https://localhost:8080/",
          "height": 170
        },
        "outputId": "97dae098-4175-4717-f4af-81a0d5439702"
      },
      "source": [
        "movies_details['cluster'].value_counts()"
      ],
      "execution_count": null,
      "outputs": [
        {
          "output_type": "execute_result",
          "data": {
            "text/plain": [
              "1    288\n",
              "3    270\n",
              "4    190\n",
              "5    188\n",
              "6    133\n",
              "7    128\n",
              "2     89\n",
              "0     53\n",
              "Name: cluster, dtype: int64"
            ]
          },
          "metadata": {
            "tags": []
          },
          "execution_count": 99
        }
      ]
    },
    {
      "cell_type": "code",
      "metadata": {
        "id": "ofxVRNOLhNQX"
      },
      "source": [
        "palavras_centrais = ['Comedy', 'Drama', 'Romance',  'Thriller', 'Animation',  'Sci-Fi', 'Action', 'Adventure']"
      ],
      "execution_count": null,
      "outputs": []
    },
    {
      "cell_type": "code",
      "metadata": {
        "id": "g1L2MpOuh-Vr"
      },
      "source": [
        "def vetor_de_generos(k):\n",
        "  i = 0\n",
        "  d={}\n",
        "  for c in palavras_centrais:\n",
        "    for lista_genre in movies_details[movies_details['cluster'] == k]['genre'].values:    \n",
        "      for genre in lista_genre:\n",
        "       if (genre == c):\n",
        "          i= i + 1\n",
        "          d[c] = i\n",
        "  return d"
      ],
      "execution_count": null,
      "outputs": []
    },
    {
      "cell_type": "code",
      "metadata": {
        "id": "GC0IueXbtA2K"
      },
      "source": [
        "def vetor_de_generos_sumary(k):\n",
        "  i = 0\n",
        "  d={}\n",
        "  for c in palavras_centrais:\n",
        "    for lista_genre in movies_details[movies_details['cluster_sumary'] == k]['genre'].values:    \n",
        "      for genre in lista_genre:\n",
        "       if (genre == c):\n",
        "          i= i + 1\n",
        "          d[c] = i\n",
        "  return d"
      ],
      "execution_count": null,
      "outputs": []
    },
    {
      "cell_type": "code",
      "metadata": {
        "id": "bcU3ENrbkmcA",
        "colab": {
          "base_uri": "https://localhost:8080/",
          "height": 153
        },
        "outputId": "b87c3b9c-0bab-461c-ea1b-ad018912bf45"
      },
      "source": [
        "cluster_0 = vetor_de_generos(0)\n",
        "cluster_0"
      ],
      "execution_count": null,
      "outputs": [
        {
          "output_type": "execute_result",
          "data": {
            "text/plain": [
              "{'Action': 67,\n",
              " 'Adventure': 113,\n",
              " 'Animation': 16,\n",
              " 'Comedy': 2,\n",
              " 'Drama': 10,\n",
              " 'Romance': 11,\n",
              " 'Sci-Fi': 25,\n",
              " 'Thriller': 12}"
            ]
          },
          "metadata": {
            "tags": []
          },
          "execution_count": 180
        }
      ]
    },
    {
      "cell_type": "code",
      "metadata": {
        "id": "2sFvoGn-nqcH",
        "colab": {
          "base_uri": "https://localhost:8080/",
          "height": 282
        },
        "outputId": "1f0de58d-6182-48c7-c942-4c2be115437c"
      },
      "source": [
        "keys = cluster_0.keys()\n",
        "values = cluster_0.values()\n",
        "plt.bar(keys, values)"
      ],
      "execution_count": null,
      "outputs": [
        {
          "output_type": "execute_result",
          "data": {
            "text/plain": [
              "<BarContainer object of 8 artists>"
            ]
          },
          "metadata": {
            "tags": []
          },
          "execution_count": 181
        },
        {
          "output_type": "display_data",
          "data": {
            "image/png": "[encoded data removed]",
            "text/plain": [
              "<Figure size 432x288 with 1 Axes>"
            ]
          },
          "metadata": {
            "tags": [],
            "needs_background": "light"
          }
        }
      ]
    },
    {
      "cell_type": "code",
      "metadata": {
        "id": "RVUqd-PLtHy7",
        "colab": {
          "base_uri": "https://localhost:8080/",
          "height": 153
        },
        "outputId": "6b3442dc-6213-4707-f786-cf2b2c1bed31"
      },
      "source": [
        "cluster_0_sumary = vetor_de_generos_sumary(0)\n",
        "cluster_0_sumary"
      ],
      "execution_count": null,
      "outputs": [
        {
          "output_type": "execute_result",
          "data": {
            "text/plain": [
              "{'Action': 292,\n",
              " 'Adventure': 322,\n",
              " 'Animation': 198,\n",
              " 'Comedy': 25,\n",
              " 'Drama': 130,\n",
              " 'Romance': 136,\n",
              " 'Sci-Fi': 210,\n",
              " 'Thriller': 197}"
            ]
          },
          "metadata": {
            "tags": []
          },
          "execution_count": 182
        }
      ]
    },
    {
      "cell_type": "code",
      "metadata": {
        "id": "wy4EDTNLtXXw",
        "colab": {
          "base_uri": "https://localhost:8080/",
          "height": 284
        },
        "outputId": "6019d8ac-f997-44c4-feb9-56b44f224722"
      },
      "source": [
        "keys = cluster_0_sumary.keys()\n",
        "values = cluster_0_sumary.values()\n",
        "plt.bar(keys, values)"
      ],
      "execution_count": null,
      "outputs": [
        {
          "output_type": "execute_result",
          "data": {
            "text/plain": [
              "<BarContainer object of 7 artists>"
            ]
          },
          "metadata": {
            "tags": []
          },
          "execution_count": 168
        },
        {
          "output_type": "display_data",
          "data": {
            "image/png": "[encoded data removed]",
            "text/plain": [
              "<Figure size 432x288 with 1 Axes>"
            ]
          },
          "metadata": {
            "tags": [],
            "needs_background": "light"
          }
        }
      ]
    },
    {
      "cell_type": "code",
      "metadata": {
        "id": "n9paW0ZlmLc-",
        "colab": {
          "base_uri": "https://localhost:8080/",
          "height": 153
        },
        "outputId": "17a4f789-3999-4585-c632-4a350366ffba"
      },
      "source": [
        "cluster_1 = vetor_de_generos(1)\n",
        "cluster_1"
      ],
      "execution_count": null,
      "outputs": [
        {
          "output_type": "execute_result",
          "data": {
            "text/plain": [
              "{'Action': 518,\n",
              " 'Adventure': 531,\n",
              " 'Animation': 509,\n",
              " 'Comedy': 152,\n",
              " 'Drama': 351,\n",
              " 'Romance': 482,\n",
              " 'Sci-Fi': 516,\n",
              " 'Thriller': 505}"
            ]
          },
          "metadata": {
            "tags": []
          },
          "execution_count": 183
        }
      ]
    },
    {
      "cell_type": "code",
      "metadata": {
        "id": "Z8W__9MZoKvU",
        "colab": {
          "base_uri": "https://localhost:8080/",
          "height": 282
        },
        "outputId": "0318ff43-7fee-4341-8fd2-537c414b7842"
      },
      "source": [
        "keys = cluster_1.keys()\n",
        "values = cluster_1.values()\n",
        "plt.bar(keys, values)"
      ],
      "execution_count": null,
      "outputs": [
        {
          "output_type": "execute_result",
          "data": {
            "text/plain": [
              "<BarContainer object of 8 artists>"
            ]
          },
          "metadata": {
            "tags": []
          },
          "execution_count": 184
        },
        {
          "output_type": "display_data",
          "data": {
            "image/png": "[encoded data removed]",
            "text/plain": [
              "<Figure size 432x288 with 1 Axes>"
            ]
          },
          "metadata": {
            "tags": [],
            "needs_background": "light"
          }
        }
      ]
    },
    {
      "cell_type": "code",
      "metadata": {
        "id": "2phCAuimttBV",
        "colab": {
          "base_uri": "https://localhost:8080/",
          "height": 153
        },
        "outputId": "96268f5e-0267-4401-ff68-724adeb62832"
      },
      "source": [
        "cluster_1_sumary = vetor_de_generos_sumary(1)\n",
        "cluster_1_sumary"
      ],
      "execution_count": null,
      "outputs": [
        {
          "output_type": "execute_result",
          "data": {
            "text/plain": [
              "{'Action': 231,\n",
              " 'Adventure': 252,\n",
              " 'Animation': 200,\n",
              " 'Comedy': 63,\n",
              " 'Drama': 165,\n",
              " 'Romance': 184,\n",
              " 'Sci-Fi': 210,\n",
              " 'Thriller': 198}"
            ]
          },
          "metadata": {
            "tags": []
          },
          "execution_count": 185
        }
      ]
    },
    {
      "cell_type": "code",
      "metadata": {
        "id": "tJbSZYNItyn3",
        "colab": {
          "base_uri": "https://localhost:8080/",
          "height": 285
        },
        "outputId": "8f72f4f3-8e80-4b56-b4a4-b8a0d5e5a58e"
      },
      "source": [
        "keys = cluster_1_sumary.keys()\n",
        "values = cluster_1_sumary.values()\n",
        "plt.bar(keys, values)"
      ],
      "execution_count": null,
      "outputs": [
        {
          "output_type": "execute_result",
          "data": {
            "text/plain": [
              "<BarContainer object of 8 artists>"
            ]
          },
          "metadata": {
            "tags": []
          },
          "execution_count": 135
        },
        {
          "output_type": "display_data",
          "data": {
            "image/png": "[encoded data removed]",
            "text/plain": [
              "<Figure size 432x288 with 1 Axes>"
            ]
          },
          "metadata": {
            "tags": [],
            "needs_background": "light"
          }
        }
      ]
    },
    {
      "cell_type": "code",
      "metadata": {
        "id": "Rq1VdsKVmO3F",
        "colab": {
          "base_uri": "https://localhost:8080/",
          "height": 136
        },
        "outputId": "bb1dceee-c4a1-4a90-9a24-85a800c619bd"
      },
      "source": [
        "cluster_2 = vetor_de_generos(2)\n",
        "cluster_2"
      ],
      "execution_count": null,
      "outputs": [
        {
          "output_type": "execute_result",
          "data": {
            "text/plain": [
              "{'Action': 139,\n",
              " 'Adventure': 161,\n",
              " 'Comedy': 11,\n",
              " 'Drama': 88,\n",
              " 'Romance': 97,\n",
              " 'Sci-Fi': 115,\n",
              " 'Thriller': 110}"
            ]
          },
          "metadata": {
            "tags": []
          },
          "execution_count": 186
        }
      ]
    },
    {
      "cell_type": "code",
      "metadata": {
        "id": "uUoBmyHTobsN",
        "colab": {
          "base_uri": "https://localhost:8080/",
          "height": 282
        },
        "outputId": "11daed62-073c-4324-d3a5-914661c79494"
      },
      "source": [
        "keys = cluster_2.keys()\n",
        "values = cluster_2.values()\n",
        "plt.bar(keys, values)"
      ],
      "execution_count": null,
      "outputs": [
        {
          "output_type": "execute_result",
          "data": {
            "text/plain": [
              "<BarContainer object of 7 artists>"
            ]
          },
          "metadata": {
            "tags": []
          },
          "execution_count": 187
        },
        {
          "output_type": "display_data",
          "data": {
            "image/png": "[encoded data removed]",
            "text/plain": [
              "<Figure size 432x288 with 1 Axes>"
            ]
          },
          "metadata": {
            "tags": [],
            "needs_background": "light"
          }
        }
      ]
    },
    {
      "cell_type": "code",
      "metadata": {
        "id": "sVoRODPFt3VR",
        "colab": {
          "base_uri": "https://localhost:8080/",
          "height": 153
        },
        "outputId": "fa1f9158-27c5-41f6-ecaf-af24ec3514dd"
      },
      "source": [
        "cluster_2_sumary = vetor_de_generos_sumary(2)\n",
        "cluster_2_sumary"
      ],
      "execution_count": null,
      "outputs": [
        {
          "output_type": "execute_result",
          "data": {
            "text/plain": [
              "{'Action': 361,\n",
              " 'Adventure': 489,\n",
              " 'Animation': 157,\n",
              " 'Comedy': 44,\n",
              " 'Drama': 95,\n",
              " 'Romance': 100,\n",
              " 'Sci-Fi': 250,\n",
              " 'Thriller': 131}"
            ]
          },
          "metadata": {
            "tags": []
          },
          "execution_count": 188
        }
      ]
    },
    {
      "cell_type": "code",
      "metadata": {
        "id": "5WpQEgsft18K",
        "colab": {
          "base_uri": "https://localhost:8080/",
          "height": 282
        },
        "outputId": "08ed0a91-fe08-4957-b88e-3075d467b40c"
      },
      "source": [
        "keys = cluster_2_sumary.keys()\n",
        "values = cluster_2_sumary.values()\n",
        "plt.bar(keys, values)"
      ],
      "execution_count": null,
      "outputs": [
        {
          "output_type": "execute_result",
          "data": {
            "text/plain": [
              "<BarContainer object of 8 artists>"
            ]
          },
          "metadata": {
            "tags": []
          },
          "execution_count": 189
        },
        {
          "output_type": "display_data",
          "data": {
            "image/png": "[encoded data removed]",
            "text/plain": [
              "<Figure size 432x288 with 1 Axes>"
            ]
          },
          "metadata": {
            "tags": [],
            "needs_background": "light"
          }
        }
      ]
    },
    {
      "cell_type": "code",
      "metadata": {
        "id": "aAdSHOukmPWE",
        "colab": {
          "base_uri": "https://localhost:8080/",
          "height": 153
        },
        "outputId": "0e537068-de0f-4805-effc-9e43ec35a290"
      },
      "source": [
        "cluster_3 = vetor_de_generos(3)\n",
        "cluster_3"
      ],
      "execution_count": null,
      "outputs": [
        {
          "output_type": "execute_result",
          "data": {
            "text/plain": [
              "{'Action': 408,\n",
              " 'Adventure': 483,\n",
              " 'Animation': 285,\n",
              " 'Comedy': 88,\n",
              " 'Drama': 201,\n",
              " 'Romance': 212,\n",
              " 'Sci-Fi': 324,\n",
              " 'Thriller': 268}"
            ]
          },
          "metadata": {
            "tags": []
          },
          "execution_count": 190
        }
      ]
    },
    {
      "cell_type": "code",
      "metadata": {
        "id": "1_vTgH9qqIbJ",
        "colab": {
          "base_uri": "https://localhost:8080/",
          "height": 283
        },
        "outputId": "56ef18cc-fc96-4919-cfbc-84bf96de34e8"
      },
      "source": [
        "keys = cluster_3.keys()\n",
        "values = cluster_3.values()\n",
        "plt.bar(keys, values)"
      ],
      "execution_count": null,
      "outputs": [
        {
          "output_type": "execute_result",
          "data": {
            "text/plain": [
              "<BarContainer object of 8 artists>"
            ]
          },
          "metadata": {
            "tags": []
          },
          "execution_count": 191
        },
        {
          "output_type": "display_data",
          "data": {
            "image/png": "[encoded data removed]",
            "text/plain": [
              "<Figure size 432x288 with 1 Axes>"
            ]
          },
          "metadata": {
            "tags": [],
            "needs_background": "light"
          }
        }
      ]
    },
    {
      "cell_type": "code",
      "metadata": {
        "id": "0E-iZi2Bt7HS",
        "colab": {
          "base_uri": "https://localhost:8080/",
          "height": 153
        },
        "outputId": "722abd8b-5af8-4a07-a7ea-baa0cbf9445d"
      },
      "source": [
        "cluster_3_sumary = vetor_de_generos_sumary(3)\n",
        "cluster_3_sumary"
      ],
      "execution_count": null,
      "outputs": [
        {
          "output_type": "execute_result",
          "data": {
            "text/plain": [
              "{'Action': 204,\n",
              " 'Adventure': 248,\n",
              " 'Animation': 117,\n",
              " 'Comedy': 13,\n",
              " 'Drama': 83,\n",
              " 'Romance': 92,\n",
              " 'Sci-Fi': 143,\n",
              " 'Thriller': 116}"
            ]
          },
          "metadata": {
            "tags": []
          },
          "execution_count": 192
        }
      ]
    },
    {
      "cell_type": "code",
      "metadata": {
        "id": "Vlw5P56ht_4v",
        "colab": {
          "base_uri": "https://localhost:8080/",
          "height": 282
        },
        "outputId": "0a9b195b-b85b-4307-cb5e-e3b5d250fc00"
      },
      "source": [
        "keys = cluster_3_sumary.keys()\n",
        "values = cluster_3_sumary.values()\n",
        "plt.bar(keys, values)"
      ],
      "execution_count": null,
      "outputs": [
        {
          "output_type": "execute_result",
          "data": {
            "text/plain": [
              "<BarContainer object of 8 artists>"
            ]
          },
          "metadata": {
            "tags": []
          },
          "execution_count": 193
        },
        {
          "output_type": "display_data",
          "data": {
            "image/png": "[encoded data removed]",
            "text/plain": [
              "<Figure size 432x288 with 1 Axes>"
            ]
          },
          "metadata": {
            "tags": [],
            "needs_background": "light"
          }
        }
      ]
    },
    {
      "cell_type": "code",
      "metadata": {
        "id": "MWnUGjwSmP6Q",
        "colab": {
          "base_uri": "https://localhost:8080/",
          "height": 136
        },
        "outputId": "87e5807f-ca14-441d-d14d-a59f95b67aab"
      },
      "source": [
        "cluster_4 = vetor_de_generos(4)\n",
        "cluster_4"
      ],
      "execution_count": null,
      "outputs": [
        {
          "output_type": "execute_result",
          "data": {
            "text/plain": [
              "{'Action': 282,\n",
              " 'Adventure': 301,\n",
              " 'Comedy': 41,\n",
              " 'Drama': 158,\n",
              " 'Romance': 166,\n",
              " 'Sci-Fi': 228,\n",
              " 'Thriller': 219}"
            ]
          },
          "metadata": {
            "tags": []
          },
          "execution_count": 194
        }
      ]
    },
    {
      "cell_type": "code",
      "metadata": {
        "id": "PWCiMC4JqPSv",
        "colab": {
          "base_uri": "https://localhost:8080/",
          "height": 282
        },
        "outputId": "73078683-531c-4f43-d309-fed3ea97bc88"
      },
      "source": [
        "keys = cluster_4.keys()\n",
        "values = cluster_4.values()\n",
        "plt.bar(keys, values)"
      ],
      "execution_count": null,
      "outputs": [
        {
          "output_type": "execute_result",
          "data": {
            "text/plain": [
              "<BarContainer object of 7 artists>"
            ]
          },
          "metadata": {
            "tags": []
          },
          "execution_count": 195
        },
        {
          "output_type": "display_data",
          "data": {
            "image/png": "[encoded data removed]",
            "text/plain": [
              "<Figure size 432x288 with 1 Axes>"
            ]
          },
          "metadata": {
            "tags": [],
            "needs_background": "light"
          }
        }
      ]
    },
    {
      "cell_type": "code",
      "metadata": {
        "id": "BU1YXRRBuKdj",
        "colab": {
          "base_uri": "https://localhost:8080/",
          "height": 153
        },
        "outputId": "15b0331e-3b5a-4dc3-a086-a2758204edc7"
      },
      "source": [
        "cluster_4_sumary = vetor_de_generos_sumary(4)\n",
        "cluster_4_sumary"
      ],
      "execution_count": null,
      "outputs": [
        {
          "output_type": "execute_result",
          "data": {
            "text/plain": [
              "{'Action': 286,\n",
              " 'Adventure': 320,\n",
              " 'Animation': 270,\n",
              " 'Comedy': 45,\n",
              " 'Drama': 180,\n",
              " 'Romance': 232,\n",
              " 'Sci-Fi': 276,\n",
              " 'Thriller': 251}"
            ]
          },
          "metadata": {
            "tags": []
          },
          "execution_count": 196
        }
      ]
    },
    {
      "cell_type": "code",
      "metadata": {
        "id": "q9UI-kGvuIas",
        "colab": {
          "base_uri": "https://localhost:8080/",
          "height": 282
        },
        "outputId": "32e0f069-1708-4827-f9d3-5804e5e8f9bd"
      },
      "source": [
        "keys = cluster_4_sumary.keys()\n",
        "values = cluster_4_sumary.values()\n",
        "plt.bar(keys, values)"
      ],
      "execution_count": null,
      "outputs": [
        {
          "output_type": "execute_result",
          "data": {
            "text/plain": [
              "<BarContainer object of 8 artists>"
            ]
          },
          "metadata": {
            "tags": []
          },
          "execution_count": 197
        },
        {
          "output_type": "display_data",
          "data": {
            "image/png": "[encoded data removed]",
            "text/plain": [
              "<Figure size 432x288 with 1 Axes>"
            ]
          },
          "metadata": {
            "tags": [],
            "needs_background": "light"
          }
        }
      ]
    },
    {
      "cell_type": "code",
      "metadata": {
        "id": "LsiufOgamR1w",
        "colab": {
          "base_uri": "https://localhost:8080/",
          "height": 153
        },
        "outputId": "4363ac9e-69ce-4935-a17a-852799768944"
      },
      "source": [
        "cluster_5 = vetor_de_generos(5)\n",
        "cluster_5"
      ],
      "execution_count": null,
      "outputs": [
        {
          "output_type": "execute_result",
          "data": {
            "text/plain": [
              "{'Action': 349,\n",
              " 'Adventure': 467,\n",
              " 'Animation': 117,\n",
              " 'Comedy': 19,\n",
              " 'Drama': 62,\n",
              " 'Romance': 66,\n",
              " 'Sci-Fi': 207,\n",
              " 'Thriller': 110}"
            ]
          },
          "metadata": {
            "tags": []
          },
          "execution_count": 198
        }
      ]
    },
    {
      "cell_type": "code",
      "metadata": {
        "id": "L2JvhyJcqWKA",
        "colab": {
          "base_uri": "https://localhost:8080/",
          "height": 282
        },
        "outputId": "3972eb00-7973-48a6-d6eb-9d02c8dfff21"
      },
      "source": [
        "keys = cluster_5.keys()\n",
        "values = cluster_5.values()\n",
        "plt.bar(keys, values)"
      ],
      "execution_count": null,
      "outputs": [
        {
          "output_type": "execute_result",
          "data": {
            "text/plain": [
              "<BarContainer object of 8 artists>"
            ]
          },
          "metadata": {
            "tags": []
          },
          "execution_count": 199
        },
        {
          "output_type": "display_data",
          "data": {
            "image/png": "[encoded data removed]",
            "text/plain": [
              "<Figure size 432x288 with 1 Axes>"
            ]
          },
          "metadata": {
            "tags": [],
            "needs_background": "light"
          }
        }
      ]
    },
    {
      "cell_type": "code",
      "metadata": {
        "id": "O-dEdauvuNXv",
        "colab": {
          "base_uri": "https://localhost:8080/",
          "height": 153
        },
        "outputId": "0dfa9530-7069-4b2e-d92b-29a75324f278"
      },
      "source": [
        "cluster_5_sumary = vetor_de_generos_sumary(5)\n",
        "cluster_5_sumary"
      ],
      "execution_count": null,
      "outputs": [
        {
          "output_type": "execute_result",
          "data": {
            "text/plain": [
              "{'Action': 407,\n",
              " 'Adventure': 452,\n",
              " 'Animation': 372,\n",
              " 'Comedy': 149,\n",
              " 'Drama': 265,\n",
              " 'Romance': 329,\n",
              " 'Sci-Fi': 387,\n",
              " 'Thriller': 354}"
            ]
          },
          "metadata": {
            "tags": []
          },
          "execution_count": 200
        }
      ]
    },
    {
      "cell_type": "code",
      "metadata": {
        "id": "e59kYHPtuQdI",
        "colab": {
          "base_uri": "https://localhost:8080/",
          "height": 282
        },
        "outputId": "f773ad2e-26bc-49d1-ee07-eacb7815c779"
      },
      "source": [
        "keys = cluster_5_sumary.keys()\n",
        "values = cluster_5_sumary.values()\n",
        "plt.bar(keys, values)"
      ],
      "execution_count": null,
      "outputs": [
        {
          "output_type": "execute_result",
          "data": {
            "text/plain": [
              "<BarContainer object of 8 artists>"
            ]
          },
          "metadata": {
            "tags": []
          },
          "execution_count": 201
        },
        {
          "output_type": "display_data",
          "data": {
            "image/png": "[encoded data removed]",
            "text/plain": [
              "<Figure size 432x288 with 1 Axes>"
            ]
          },
          "metadata": {
            "tags": [],
            "needs_background": "light"
          }
        }
      ]
    },
    {
      "cell_type": "code",
      "metadata": {
        "id": "L2uMfdIkmSbR",
        "colab": {
          "base_uri": "https://localhost:8080/",
          "height": 153
        },
        "outputId": "7cedbce1-15a9-4c7d-dec3-8e72ddc7a31e"
      },
      "source": [
        "cluster_6 = vetor_de_generos(6)\n",
        "cluster_6"
      ],
      "execution_count": null,
      "outputs": [
        {
          "output_type": "execute_result",
          "data": {
            "text/plain": [
              "{'Action': 214,\n",
              " 'Adventure': 227,\n",
              " 'Animation': 193,\n",
              " 'Comedy': 61,\n",
              " 'Drama': 152,\n",
              " 'Romance': 178,\n",
              " 'Sci-Fi': 202,\n",
              " 'Thriller': 190}"
            ]
          },
          "metadata": {
            "tags": []
          },
          "execution_count": 202
        }
      ]
    },
    {
      "cell_type": "code",
      "metadata": {
        "id": "jhubH2e-qdtQ",
        "colab": {
          "base_uri": "https://localhost:8080/",
          "height": 282
        },
        "outputId": "434e941c-7843-4d7a-ba1b-d30049805aec"
      },
      "source": [
        "keys = cluster_6.keys()\n",
        "values = cluster_6.values()\n",
        "plt.bar(keys, values)"
      ],
      "execution_count": null,
      "outputs": [
        {
          "output_type": "execute_result",
          "data": {
            "text/plain": [
              "<BarContainer object of 8 artists>"
            ]
          },
          "metadata": {
            "tags": []
          },
          "execution_count": 203
        },
        {
          "output_type": "display_data",
          "data": {
            "image/png": "[encoded data removed]",
            "text/plain": [
              "<Figure size 432x288 with 1 Axes>"
            ]
          },
          "metadata": {
            "tags": [],
            "needs_background": "light"
          }
        }
      ]
    },
    {
      "cell_type": "code",
      "metadata": {
        "id": "NIsa7ySouWwv",
        "colab": {
          "base_uri": "https://localhost:8080/",
          "height": 153
        },
        "outputId": "08d1059c-3c3e-4d74-b99c-fe9ec6d5694d"
      },
      "source": [
        "cluster_6_sumary = vetor_de_generos_sumary(6)\n",
        "cluster_6_sumary"
      ],
      "execution_count": null,
      "outputs": [
        {
          "output_type": "execute_result",
          "data": {
            "text/plain": [
              "{'Action': 89,\n",
              " 'Adventure': 151,\n",
              " 'Animation': 24,\n",
              " 'Comedy': 7,\n",
              " 'Drama': 16,\n",
              " 'Romance': 17,\n",
              " 'Sci-Fi': 35,\n",
              " 'Thriller': 18}"
            ]
          },
          "metadata": {
            "tags": []
          },
          "execution_count": 204
        }
      ]
    },
    {
      "cell_type": "code",
      "metadata": {
        "id": "ot0mtoVMuVQ4",
        "colab": {
          "base_uri": "https://localhost:8080/",
          "height": 282
        },
        "outputId": "0e8f4100-3a80-4cff-f868-ab46acea6e4c"
      },
      "source": [
        "keys = cluster_6_sumary.keys()\n",
        "values = cluster_6_sumary.values()\n",
        "plt.bar(keys, values)"
      ],
      "execution_count": null,
      "outputs": [
        {
          "output_type": "execute_result",
          "data": {
            "text/plain": [
              "<BarContainer object of 8 artists>"
            ]
          },
          "metadata": {
            "tags": []
          },
          "execution_count": 205
        },
        {
          "output_type": "display_data",
          "data": {
            "image/png": "[encoded data removed]",
            "text/plain": [
              "<Figure size 432x288 with 1 Axes>"
            ]
          },
          "metadata": {
            "tags": [],
            "needs_background": "light"
          }
        }
      ]
    },
    {
      "cell_type": "code",
      "metadata": {
        "id": "W0Xq-ZjgmTC3",
        "colab": {
          "base_uri": "https://localhost:8080/",
          "height": 153
        },
        "outputId": "c5f0abf4-d826-4687-ec7e-4e2a4328534e"
      },
      "source": [
        "cluster_7 = vetor_de_generos(7)\n",
        "cluster_7"
      ],
      "execution_count": null,
      "outputs": [
        {
          "output_type": "execute_result",
          "data": {
            "text/plain": [
              "{'Action': 164,\n",
              " 'Adventure': 245,\n",
              " 'Animation': 118,\n",
              " 'Comedy': 35,\n",
              " 'Drama': 66,\n",
              " 'Romance': 70,\n",
              " 'Sci-Fi': 130,\n",
              " 'Thriller': 80}"
            ]
          },
          "metadata": {
            "tags": []
          },
          "execution_count": 206
        }
      ]
    },
    {
      "cell_type": "code",
      "metadata": {
        "id": "t4h3XuCBrMOJ",
        "colab": {
          "base_uri": "https://localhost:8080/",
          "height": 282
        },
        "outputId": "f6138b09-f237-4d93-b990-435c02e09298"
      },
      "source": [
        "keys = cluster_7.keys()\n",
        "values = cluster_7.values()\n",
        "plt.bar(keys, values)"
      ],
      "execution_count": null,
      "outputs": [
        {
          "output_type": "execute_result",
          "data": {
            "text/plain": [
              "<BarContainer object of 8 artists>"
            ]
          },
          "metadata": {
            "tags": []
          },
          "execution_count": 207
        },
        {
          "output_type": "display_data",
          "data": {
            "image/png": "[encoded data removed]",
            "text/plain": [
              "<Figure size 432x288 with 1 Axes>"
            ]
          },
          "metadata": {
            "tags": [],
            "needs_background": "light"
          }
        }
      ]
    },
    {
      "cell_type": "code",
      "metadata": {
        "id": "fDOeM5iTucuM",
        "colab": {
          "base_uri": "https://localhost:8080/",
          "height": 136
        },
        "outputId": "029e6b66-8ecc-4835-a3f8-021b020d7fef"
      },
      "source": [
        "cluster_7_sumary = vetor_de_generos_sumary(7)\n",
        "cluster_7_sumary"
      ],
      "execution_count": null,
      "outputs": [
        {
          "output_type": "execute_result",
          "data": {
            "text/plain": [
              "{'Action': 271,\n",
              " 'Adventure': 294,\n",
              " 'Comedy': 63,\n",
              " 'Drama': 154,\n",
              " 'Romance': 192,\n",
              " 'Sci-Fi': 236,\n",
              " 'Thriller': 229}"
            ]
          },
          "metadata": {
            "tags": []
          },
          "execution_count": 208
        }
      ]
    },
    {
      "cell_type": "code",
      "metadata": {
        "id": "D_3jCXp_nMtL",
        "colab": {
          "base_uri": "https://localhost:8080/",
          "height": 282
        },
        "outputId": "ce81d5b4-9fa2-43d4-d9c1-b1963a7d40ee"
      },
      "source": [
        "keys = cluster_7_sumary.keys()\n",
        "values = cluster_7_sumary.values()\n",
        "plt.bar(keys, values)"
      ],
      "execution_count": null,
      "outputs": [
        {
          "output_type": "execute_result",
          "data": {
            "text/plain": [
              "<BarContainer object of 7 artists>"
            ]
          },
          "metadata": {
            "tags": []
          },
          "execution_count": 209
        },
        {
          "output_type": "display_data",
          "data": {
            "image/png": "[encoded data removed]",
            "text/plain": [
              "<Figure size 432x288 with 1 Axes>"
            ]
          },
          "metadata": {
            "tags": [],
            "needs_background": "light"
          }
        }
      ]
    },
    {
      "cell_type": "markdown",
      "metadata": {
        "id": "cT6KQm2rMd4h"
      },
      "source": [
        "##Lista de recomendação"
      ]
    },
    {
      "cell_type": "code",
      "metadata": {
        "id": "n7XbwlGoJo8-"
      },
      "source": [
        "def vetor_5_nomes(k):\n",
        "  i=0\n",
        "  for id in movies_details[movies_details['cluster'] == k]['movie_id'].values:   \n",
        "    if(i>6):\n",
        "      break\n",
        "    title = movies[movies['imdb_title_id'] == id]['title'].values\n",
        "    print('___________________________')\n",
        "    print(title)\n",
        "    print('___________________________')\n",
        "    i=i+1"
      ],
      "execution_count": null,
      "outputs": []
    },
    {
      "cell_type": "code",
      "metadata": {
        "id": "PnUVZJ1KLZGL"
      },
      "source": [
        "def vetor_5_nomes_sumary(k):\n",
        "  i=0\n",
        "  for id in movies_details[movies_details['cluster_sumary'] == k]['movie_id'].values:   \n",
        "    if(i>6):\n",
        "      break\n",
        "    title = movies[movies['imdb_title_id'] == id]['title'].values\n",
        "    print('___________________________')\n",
        "    print(title)\n",
        "    print('___________________________')\n",
        "    i=i+1"
      ],
      "execution_count": null,
      "outputs": []
    },
    {
      "cell_type": "code",
      "metadata": {
        "id": "CIgN5PhmLdL5",
        "colab": {
          "base_uri": "https://localhost:8080/",
          "height": 374
        },
        "outputId": "93805e5e-4b20-4aa9-8c74-7735b473382f"
      },
      "source": [
        "vetor_5_nomes_sumary(0)"
      ],
      "execution_count": null,
      "outputs": [
        {
          "output_type": "stream",
          "text": [
            "___________________________\n",
            "['Patriot Games']\n",
            "___________________________\n",
            "___________________________\n",
            "['The World Is Not Enough']\n",
            "___________________________\n",
            "___________________________\n",
            "['I, Robot']\n",
            "___________________________\n",
            "___________________________\n",
            "['The Usual Suspects']\n",
            "___________________________\n",
            "___________________________\n",
            "[]\n",
            "___________________________\n",
            "___________________________\n",
            "['In the Name of the Father']\n",
            "___________________________\n",
            "___________________________\n",
            "['The Insider']\n",
            "___________________________\n"
          ],
          "name": "stdout"
        }
      ]
    },
    {
      "cell_type": "code",
      "metadata": {
        "id": "iuoyiekrLI3m",
        "colab": {
          "base_uri": "https://localhost:8080/",
          "height": 374
        },
        "outputId": "b6351ba6-5625-41cd-b9f3-1eb895fb0fb4"
      },
      "source": [
        "vetor_5_nomes(0)"
      ],
      "execution_count": null,
      "outputs": [
        {
          "output_type": "stream",
          "text": [
            "___________________________\n",
            "['Star Wars: Episode II - Attack of the Clones']\n",
            "___________________________\n",
            "___________________________\n",
            "['The Chronicles of Narnia: Prince Caspian']\n",
            "___________________________\n",
            "___________________________\n",
            "['Rogue One']\n",
            "___________________________\n",
            "___________________________\n",
            "['Pirates of the Caribbean: On Stranger Tides']\n",
            "___________________________\n",
            "___________________________\n",
            "['X-Men']\n",
            "___________________________\n",
            "___________________________\n",
            "['300']\n",
            "___________________________\n",
            "___________________________\n",
            "['The Scorpion King']\n",
            "___________________________\n"
          ],
          "name": "stdout"
        }
      ]
    },
    {
      "cell_type": "code",
      "metadata": {
        "id": "V8dDrBX-R33e",
        "colab": {
          "base_uri": "https://localhost:8080/",
          "height": 374
        },
        "outputId": "31ace84e-eadc-435d-e0c5-948284ec5e14"
      },
      "source": [
        "vetor_5_nomes_sumary(1)"
      ],
      "execution_count": null,
      "outputs": [
        {
          "output_type": "stream",
          "text": [
            "___________________________\n",
            "['The Treasure of the Sierra Madre']\n",
            "___________________________\n",
            "___________________________\n",
            "['Election']\n",
            "___________________________\n",
            "___________________________\n",
            "['Borat: Cultural Learnings of America for Make Benefit Glorious Nation of Kazakhstan']\n",
            "___________________________\n",
            "___________________________\n",
            "['The Imitation Game']\n",
            "___________________________\n",
            "___________________________\n",
            "['The Net']\n",
            "___________________________\n",
            "___________________________\n",
            "['Rocky V']\n",
            "___________________________\n",
            "___________________________\n",
            "['Sabrina']\n",
            "___________________________\n"
          ],
          "name": "stdout"
        }
      ]
    },
    {
      "cell_type": "code",
      "metadata": {
        "id": "5c_L2udsLpI6",
        "colab": {
          "base_uri": "https://localhost:8080/",
          "height": 374
        },
        "outputId": "bb1efa69-9884-4f6a-b992-3ea8168461f5"
      },
      "source": [
        "vetor_5_nomes(1)"
      ],
      "execution_count": null,
      "outputs": [
        {
          "output_type": "stream",
          "text": [
            "___________________________\n",
            "['Last Vegas']\n",
            "___________________________\n",
            "___________________________\n",
            "[\"Bridget Jones's Diary\"]\n",
            "___________________________\n",
            "___________________________\n",
            "['The Parent Trap']\n",
            "___________________________\n",
            "___________________________\n",
            "['Mean Girls']\n",
            "___________________________\n",
            "___________________________\n",
            "['The Piano']\n",
            "___________________________\n",
            "___________________________\n",
            "['Blue Valentine']\n",
            "___________________________\n",
            "___________________________\n",
            "['Sabrina']\n",
            "___________________________\n"
          ],
          "name": "stdout"
        }
      ]
    },
    {
      "cell_type": "code",
      "metadata": {
        "id": "Fxh_YTbnR60Z",
        "colab": {
          "base_uri": "https://localhost:8080/",
          "height": 374
        },
        "outputId": "d658345c-0d24-4ae6-8622-10d0f658da9d"
      },
      "source": [
        "vetor_5_nomes_sumary(2)"
      ],
      "execution_count": null,
      "outputs": [
        {
          "output_type": "stream",
          "text": [
            "___________________________\n",
            "['Hulk']\n",
            "___________________________\n",
            "___________________________\n",
            "['Aliens']\n",
            "___________________________\n",
            "___________________________\n",
            "['Blood Diamond']\n",
            "___________________________\n",
            "___________________________\n",
            "['The Cabin in the Woods']\n",
            "___________________________\n",
            "___________________________\n",
            "['Planet of the Apes']\n",
            "___________________________\n",
            "___________________________\n",
            "[]\n",
            "___________________________\n",
            "___________________________\n",
            "['Brave']\n",
            "___________________________\n"
          ],
          "name": "stdout"
        }
      ]
    },
    {
      "cell_type": "code",
      "metadata": {
        "id": "VBsEsGMmMFik",
        "colab": {
          "base_uri": "https://localhost:8080/",
          "height": 374
        },
        "outputId": "c6d91a79-9fd2-4e94-9329-f0461e4082f6"
      },
      "source": [
        "vetor_5_nomes(2)"
      ],
      "execution_count": null,
      "outputs": [
        {
          "output_type": "stream",
          "text": [
            "___________________________\n",
            "['Blood Diamond']\n",
            "___________________________\n",
            "___________________________\n",
            "['Metropolis']\n",
            "___________________________\n",
            "___________________________\n",
            "['Enemy at the Gates']\n",
            "___________________________\n",
            "___________________________\n",
            "['The Insider']\n",
            "___________________________\n",
            "___________________________\n",
            "['The Da Vinci Code']\n",
            "___________________________\n",
            "___________________________\n",
            "['The Man in the Iron Mask']\n",
            "___________________________\n",
            "___________________________\n",
            "['Andrei Rublev']\n",
            "___________________________\n"
          ],
          "name": "stdout"
        }
      ]
    },
    {
      "cell_type": "code",
      "metadata": {
        "id": "DSwmyWi9R9n7",
        "colab": {
          "base_uri": "https://localhost:8080/",
          "height": 374
        },
        "outputId": "b43515df-9dbd-48c5-cee6-ce1b868954a0"
      },
      "source": [
        "vetor_5_nomes_sumary(3)"
      ],
      "execution_count": null,
      "outputs": [
        {
          "output_type": "stream",
          "text": [
            "___________________________\n",
            "['Saving Private Ryan']\n",
            "___________________________\n",
            "___________________________\n",
            "['Enemy at the Gates']\n",
            "___________________________\n",
            "___________________________\n",
            "['Das Boot']\n",
            "___________________________\n",
            "___________________________\n",
            "['Rogue One']\n",
            "___________________________\n",
            "___________________________\n",
            "['The Hunt for Red October']\n",
            "___________________________\n",
            "___________________________\n",
            "['Captain America: The First Avenger']\n",
            "___________________________\n",
            "___________________________\n",
            "['Iron Man 2']\n",
            "___________________________\n"
          ],
          "name": "stdout"
        }
      ]
    },
    {
      "cell_type": "code",
      "metadata": {
        "id": "e98vF3zQLqAZ",
        "colab": {
          "base_uri": "https://localhost:8080/",
          "height": 374
        },
        "outputId": "bbfaab90-679c-416e-d4fd-afdeb80a1880"
      },
      "source": [
        "vetor_5_nomes(3)"
      ],
      "execution_count": null,
      "outputs": [
        {
          "output_type": "stream",
          "text": [
            "___________________________\n",
            "['The Cabin in the Woods']\n",
            "___________________________\n",
            "___________________________\n",
            "['Ghostbusters']\n",
            "___________________________\n",
            "___________________________\n",
            "['Spring Breakers']\n",
            "___________________________\n",
            "___________________________\n",
            "['The Net']\n",
            "___________________________\n",
            "___________________________\n",
            "['Toy Story 2']\n",
            "___________________________\n",
            "___________________________\n",
            "['Madagascar']\n",
            "___________________________\n",
            "___________________________\n",
            "['Triangle']\n",
            "___________________________\n"
          ],
          "name": "stdout"
        }
      ]
    },
    {
      "cell_type": "code",
      "metadata": {
        "id": "TX2tgclSSE1g",
        "colab": {
          "base_uri": "https://localhost:8080/",
          "height": 374
        },
        "outputId": "7f072673-c479-48af-ac86-d48404da4856"
      },
      "source": [
        "vetor_5_nomes_sumary(4)"
      ],
      "execution_count": null,
      "outputs": [
        {
          "output_type": "stream",
          "text": [
            "___________________________\n",
            "['The Descent']\n",
            "___________________________\n",
            "___________________________\n",
            "['The Parent Trap']\n",
            "___________________________\n",
            "___________________________\n",
            "['Metropolis']\n",
            "___________________________\n",
            "___________________________\n",
            "['The Piano']\n",
            "___________________________\n",
            "___________________________\n",
            "['Blue Valentine']\n",
            "___________________________\n",
            "___________________________\n",
            "['Sunrise: A Song of Two Humans']\n",
            "___________________________\n",
            "___________________________\n",
            "['Buffy the Vampire Slayer']\n",
            "___________________________\n"
          ],
          "name": "stdout"
        }
      ]
    },
    {
      "cell_type": "code",
      "metadata": {
        "id": "q_9ccqNMLqjj",
        "colab": {
          "base_uri": "https://localhost:8080/",
          "height": 374
        },
        "outputId": "116ede37-f238-4e3d-dacb-367d0ff6ddee"
      },
      "source": [
        "vetor_5_nomes(4)"
      ],
      "execution_count": null,
      "outputs": [
        {
          "output_type": "stream",
          "text": [
            "___________________________\n",
            "['Patriot Games']\n",
            "___________________________\n",
            "___________________________\n",
            "['The Usual Suspects']\n",
            "___________________________\n",
            "___________________________\n",
            "['True Romance']\n",
            "___________________________\n",
            "___________________________\n",
            "[]\n",
            "___________________________\n",
            "___________________________\n",
            "['In the Name of the Father']\n",
            "___________________________\n",
            "___________________________\n",
            "['Basic Instinct']\n",
            "___________________________\n",
            "___________________________\n",
            "['Salinui chueok']\n",
            "___________________________\n"
          ],
          "name": "stdout"
        }
      ]
    },
    {
      "cell_type": "code",
      "metadata": {
        "id": "-UNvPBu2MXnm",
        "colab": {
          "base_uri": "https://localhost:8080/",
          "height": 374
        },
        "outputId": "379e3a97-27c8-4e94-fb83-665f90700596"
      },
      "source": [
        "vetor_5_nomes(5)"
      ],
      "execution_count": null,
      "outputs": [
        {
          "output_type": "stream",
          "text": [
            "___________________________\n",
            "['Hulk']\n",
            "___________________________\n",
            "___________________________\n",
            "['Aliens']\n",
            "___________________________\n",
            "___________________________\n",
            "['The World Is Not Enough']\n",
            "___________________________\n",
            "___________________________\n",
            "['I, Robot']\n",
            "___________________________\n",
            "___________________________\n",
            "['Saving Private Ryan']\n",
            "___________________________\n",
            "___________________________\n",
            "['Star Trek: Nemesis']\n",
            "___________________________\n",
            "___________________________\n",
            "['The Hunger Games: Catching Fire']\n",
            "___________________________\n"
          ],
          "name": "stdout"
        }
      ]
    },
    {
      "cell_type": "markdown",
      "metadata": {
        "id": "Mreo1RQ8hynP"
      },
      "source": [
        "##TSNE"
      ]
    },
    {
      "cell_type": "code",
      "metadata": {
        "id": "qDPGeO6X5rxQ"
      },
      "source": [
        "from yellowbrick.text import TSNEVisualizer"
      ],
      "execution_count": null,
      "outputs": []
    },
    {
      "cell_type": "code",
      "metadata": {
        "id": "nigouD6CngYo",
        "colab": {
          "base_uri": "https://localhost:8080/",
          "height": 506
        },
        "outputId": "fce6b5a1-889a-432d-bc11-4642a43bd176"
      },
      "source": [
        "visualizer = TSNEVisualizer(colors='yellowbrick')\n",
        "visualizer.fit(embedding_expectations, labels)       "
      ],
      "execution_count": null,
      "outputs": [
        {
          "output_type": "stream",
          "text": [
            "*c* argument looks like a single numeric RGB or RGBA sequence, which should be avoided as value-mapping will have precedence in case its length matches with *x* & *y*.  Please use the *color* keyword-argument or provide a 2-D array with a single row if you intend to specify the same RGB or RGBA value for all points.\n",
            "*c* argument looks like a single numeric RGB or RGBA sequence, which should be avoided as value-mapping will have precedence in case its length matches with *x* & *y*.  Please use the *color* keyword-argument or provide a 2-D array with a single row if you intend to specify the same RGB or RGBA value for all points.\n",
            "*c* argument looks like a single numeric RGB or RGBA sequence, which should be avoided as value-mapping will have precedence in case its length matches with *x* & *y*.  Please use the *color* keyword-argument or provide a 2-D array with a single row if you intend to specify the same RGB or RGBA value for all points.\n",
            "*c* argument looks like a single numeric RGB or RGBA sequence, which should be avoided as value-mapping will have precedence in case its length matches with *x* & *y*.  Please use the *color* keyword-argument or provide a 2-D array with a single row if you intend to specify the same RGB or RGBA value for all points.\n",
            "*c* argument looks like a single numeric RGB or RGBA sequence, which should be avoided as value-mapping will have precedence in case its length matches with *x* & *y*.  Please use the *color* keyword-argument or provide a 2-D array with a single row if you intend to specify the same RGB or RGBA value for all points.\n",
            "*c* argument looks like a single numeric RGB or RGBA sequence, which should be avoided as value-mapping will have precedence in case its length matches with *x* & *y*.  Please use the *color* keyword-argument or provide a 2-D array with a single row if you intend to specify the same RGB or RGBA value for all points.\n",
            "*c* argument looks like a single numeric RGB or RGBA sequence, which should be avoided as value-mapping will have precedence in case its length matches with *x* & *y*.  Please use the *color* keyword-argument or provide a 2-D array with a single row if you intend to specify the same RGB or RGBA value for all points.\n",
            "*c* argument looks like a single numeric RGB or RGBA sequence, which should be avoided as value-mapping will have precedence in case its length matches with *x* & *y*.  Please use the *color* keyword-argument or provide a 2-D array with a single row if you intend to specify the same RGB or RGBA value for all points.\n"
          ],
          "name": "stderr"
        },
        {
          "output_type": "execute_result",
          "data": {
            "text/plain": [
              "TSNEVisualizer(alpha=0.7,\n",
              "               ax=<matplotlib.axes._subplots.AxesSubplot object at 0x7f0fcf1ee3c8>,\n",
              "               classes=None, colormap=None, colors='yellowbrick',\n",
              "               decompose=None, decompose_by=None, labels=None,\n",
              "               random_state=None)"
            ]
          },
          "metadata": {
            "tags": []
          },
          "execution_count": 211
        },
        {
          "output_type": "display_data",
          "data": {
            "image/png": "[encoded data removed]",
            "text/plain": [
              "<Figure size 432x288 with 1 Axes>"
            ]
          },
          "metadata": {
            "tags": [],
            "needs_background": "light"
          }
        }
      ]
    },
    {
      "cell_type": "code",
      "metadata": {
        "id": "EQIkfVfr6HKq",
        "colab": {
          "base_uri": "https://localhost:8080/",
          "height": 506
        },
        "outputId": "1644ffed-84dd-4e4c-ef33-a394772be543"
      },
      "source": [
        "visualizer = TSNEVisualizer(colors='yellowbrick')\n",
        "visualizer.fit(embedding_expectations_sumary, labels)  "
      ],
      "execution_count": null,
      "outputs": [
        {
          "output_type": "stream",
          "text": [
            "*c* argument looks like a single numeric RGB or RGBA sequence, which should be avoided as value-mapping will have precedence in case its length matches with *x* & *y*.  Please use the *color* keyword-argument or provide a 2-D array with a single row if you intend to specify the same RGB or RGBA value for all points.\n",
            "*c* argument looks like a single numeric RGB or RGBA sequence, which should be avoided as value-mapping will have precedence in case its length matches with *x* & *y*.  Please use the *color* keyword-argument or provide a 2-D array with a single row if you intend to specify the same RGB or RGBA value for all points.\n",
            "*c* argument looks like a single numeric RGB or RGBA sequence, which should be avoided as value-mapping will have precedence in case its length matches with *x* & *y*.  Please use the *color* keyword-argument or provide a 2-D array with a single row if you intend to specify the same RGB or RGBA value for all points.\n",
            "*c* argument looks like a single numeric RGB or RGBA sequence, which should be avoided as value-mapping will have precedence in case its length matches with *x* & *y*.  Please use the *color* keyword-argument or provide a 2-D array with a single row if you intend to specify the same RGB or RGBA value for all points.\n",
            "*c* argument looks like a single numeric RGB or RGBA sequence, which should be avoided as value-mapping will have precedence in case its length matches with *x* & *y*.  Please use the *color* keyword-argument or provide a 2-D array with a single row if you intend to specify the same RGB or RGBA value for all points.\n",
            "*c* argument looks like a single numeric RGB or RGBA sequence, which should be avoided as value-mapping will have precedence in case its length matches with *x* & *y*.  Please use the *color* keyword-argument or provide a 2-D array with a single row if you intend to specify the same RGB or RGBA value for all points.\n",
            "*c* argument looks like a single numeric RGB or RGBA sequence, which should be avoided as value-mapping will have precedence in case its length matches with *x* & *y*.  Please use the *color* keyword-argument or provide a 2-D array with a single row if you intend to specify the same RGB or RGBA value for all points.\n",
            "*c* argument looks like a single numeric RGB or RGBA sequence, which should be avoided as value-mapping will have precedence in case its length matches with *x* & *y*.  Please use the *color* keyword-argument or provide a 2-D array with a single row if you intend to specify the same RGB or RGBA value for all points.\n"
          ],
          "name": "stderr"
        },
        {
          "output_type": "execute_result",
          "data": {
            "text/plain": [
              "TSNEVisualizer(alpha=0.7,\n",
              "               ax=<matplotlib.axes._subplots.AxesSubplot object at 0x7f0fcf22a358>,\n",
              "               classes=None, colormap=None, colors='yellowbrick',\n",
              "               decompose=None, decompose_by=None, labels=None,\n",
              "               random_state=None)"
            ]
          },
          "metadata": {
            "tags": []
          },
          "execution_count": 212
        },
        {
          "output_type": "display_data",
          "data": {
            "image/png": "[encoded data removed]",
            "text/plain": [
              "<Figure size 432x288 with 1 Axes>"
            ]
          },
          "metadata": {
            "tags": [],
            "needs_background": "light"
          }
        }
      ]
    },
    {
      "cell_type": "markdown",
      "metadata": {
        "id": "qLfdK1BMl-R5"
      },
      "source": [
        "#Vader"
      ]
    },
    {
      "cell_type": "code",
      "metadata": {
        "id": "xMHgmc6eBMHH",
        "colab": {
          "base_uri": "https://localhost:8080/",
          "height": 207
        },
        "outputId": "b61be70c-9f35-4efc-b8fe-f1d217a87e58"
      },
      "source": [
        " pip install vaderSentiment"
      ],
      "execution_count": null,
      "outputs": [
        {
          "output_type": "stream",
          "text": [
            "Collecting vaderSentiment\n",
            "\u001b[?25l  Downloading https://files.pythonhosted.org/packages/76/fc/310e16254683c1ed35eeb97386986d6c00bc29df17ce280aed64d55537e9/vaderSentiment-3.3.2-py2.py3-none-any.whl (125kB)\n",
            "\r\u001b[K     |██▋                             | 10kB 14.5MB/s eta 0:00:01\r\u001b[K     |█████▏                          | 20kB 1.6MB/s eta 0:00:01\r\u001b[K     |███████▉                        | 30kB 2.1MB/s eta 0:00:01\r\u001b[K     |██████████▍                     | 40kB 1.6MB/s eta 0:00:01\r\u001b[K     |█████████████                   | 51kB 1.9MB/s eta 0:00:01\r\u001b[K     |███████████████▋                | 61kB 2.2MB/s eta 0:00:01\r\u001b[K     |██████████████████▏             | 71kB 2.4MB/s eta 0:00:01\r\u001b[K     |████████████████████▉           | 81kB 2.6MB/s eta 0:00:01\r\u001b[K     |███████████████████████▍        | 92kB 2.8MB/s eta 0:00:01\r\u001b[K     |██████████████████████████      | 102kB 2.7MB/s eta 0:00:01\r\u001b[K     |████████████████████████████▋   | 112kB 2.7MB/s eta 0:00:01\r\u001b[K     |███████████████████████████████▏| 122kB 2.7MB/s eta 0:00:01\r\u001b[K     |████████████████████████████████| 133kB 2.7MB/s \n",
            "\u001b[?25hRequirement already satisfied: requests in /usr/local/lib/python3.6/dist-packages (from vaderSentiment) (2.23.0)\n",
            "Requirement already satisfied: certifi>=2017.4.17 in /usr/local/lib/python3.6/dist-packages (from requests->vaderSentiment) (2020.6.20)\n",
            "Requirement already satisfied: idna<3,>=2.5 in /usr/local/lib/python3.6/dist-packages (from requests->vaderSentiment) (2.9)\n",
            "Requirement already satisfied: chardet<4,>=3.0.2 in /usr/local/lib/python3.6/dist-packages (from requests->vaderSentiment) (3.0.4)\n",
            "Requirement already satisfied: urllib3!=1.25.0,!=1.25.1,<1.26,>=1.21.1 in /usr/local/lib/python3.6/dist-packages (from requests->vaderSentiment) (1.24.3)\n",
            "Installing collected packages: vaderSentiment\n",
            "Successfully installed vaderSentiment-3.3.2\n"
          ],
          "name": "stdout"
        }
      ]
    },
    {
      "cell_type": "code",
      "metadata": {
        "id": "jgTMZW4YxU8X"
      },
      "source": [
        "movies_reviews_filtrado = movies_reviews['review_text'][0::10]"
      ],
      "execution_count": null,
      "outputs": []
    },
    {
      "cell_type": "code",
      "metadata": {
        "id": "OY3jRbDIyKQq",
        "colab": {
          "base_uri": "https://localhost:8080/",
          "height": 34
        },
        "outputId": "d8f802af-6a04-477a-99b3-326eb1baa3fa"
      },
      "source": [
        "len(movies_reviews_filtrado)"
      ],
      "execution_count": null,
      "outputs": [
        {
          "output_type": "execute_result",
          "data": {
            "text/plain": [
              "57392"
            ]
          },
          "metadata": {
            "tags": []
          },
          "execution_count": 76
        }
      ]
    },
    {
      "cell_type": "code",
      "metadata": {
        "id": "YN3CvN0SBVrZ"
      },
      "source": [
        "from vaderSentiment.vaderSentiment import SentimentIntensityAnalyzer\n",
        "analyser = SentimentIntensityAnalyzer()"
      ],
      "execution_count": null,
      "outputs": []
    },
    {
      "cell_type": "code",
      "metadata": {
        "id": "lRcq2eHTBY0y"
      },
      "source": [
        "def sentiment_analyzer_scores(sentence):\n",
        "    score = analyser.polarity_scores(sentence)\n",
        "    return score"
      ],
      "execution_count": null,
      "outputs": []
    },
    {
      "cell_type": "code",
      "metadata": {
        "id": "3d1QdqW2Bkyv"
      },
      "source": [
        "score_reviews = [sentiment_analyzer_scores(e) for e in movies_reviews_filtrado]\n",
        "score_reviews"
      ],
      "execution_count": null,
      "outputs": []
    },
    {
      "cell_type": "code",
      "metadata": {
        "id": "IIomgs_U5kZK"
      },
      "source": [
        "movies_id_filtrado = movies_reviews['movie_id'][0::10]"
      ],
      "execution_count": null,
      "outputs": []
    },
    {
      "cell_type": "code",
      "metadata": {
        "id": "zexjFEPh2var",
        "colab": {
          "base_uri": "https://localhost:8080/",
          "height": 221
        },
        "outputId": "927f1813-c06b-4780-a80c-e8cce325943b"
      },
      "source": [
        "score_processado = []\n",
        "for score  in score_reviews:\n",
        "  s  = score['compound']\n",
        "  novo_score = ((10*(s+1))/2)\n",
        "  novo_score = \"%.1f\" % novo_score\n",
        "  score_processado.append(novo_score)\n",
        "\n",
        "#imprimir parte do resultado\n",
        "score_processado[0::5000]"
      ],
      "execution_count": null,
      "outputs": [
        {
          "output_type": "execute_result",
          "data": {
            "text/plain": [
              "['10.0',\n",
              " '10.0',\n",
              " '9.9',\n",
              " '9.1',\n",
              " '0.0',\n",
              " '9.9',\n",
              " '7.0',\n",
              " '6.0',\n",
              " '10.0',\n",
              " '0.3',\n",
              " '10.0',\n",
              " '9.9']"
            ]
          },
          "metadata": {
            "tags": []
          },
          "execution_count": 229
        }
      ]
    },
    {
      "cell_type": "code",
      "metadata": {
        "id": "sHRQgk0M7bl8"
      },
      "source": [
        "#comparar resultado do Vader com o valor avaliado pela pessoa\n",
        "movies_ratings_filtrado = movies_reviews['rating'][0::10]"
      ],
      "execution_count": null,
      "outputs": []
    },
    {
      "cell_type": "code",
      "metadata": {
        "id": "aStzZdnp7_VL"
      },
      "source": [
        "movies_id_filtrado = movies_reviews['movie_id'][0::10]"
      ],
      "execution_count": null,
      "outputs": []
    },
    {
      "cell_type": "code",
      "metadata": {
        "id": "5ZnNUuVc-Da6",
        "colab": {
          "base_uri": "https://localhost:8080/",
          "height": 35
        },
        "outputId": "ea23d6d6-5e30-4c89-e9d2-ae98d6c6bfac"
      },
      "source": [
        "movies_id_filtrado[0]"
      ],
      "execution_count": null,
      "outputs": [
        {
          "output_type": "execute_result",
          "data": {
            "application/vnd.google.colaboratory.intrinsic": {
              "type": "string"
            },
            "text/plain": [
              "'tt0111161'"
            ]
          },
          "metadata": {
            "tags": []
          },
          "execution_count": 235
        }
      ]
    },
    {
      "cell_type": "code",
      "metadata": {
        "id": "VwfPe-L59YJC"
      },
      "source": [
        "novo_score=score_processado"
      ],
      "execution_count": null,
      "outputs": []
    },
    {
      "cell_type": "code",
      "metadata": {
        "id": "_zKCTspy8Elw",
        "colab": {
          "base_uri": "https://localhost:8080/",
          "height": 1000
        },
        "outputId": "fce59c3a-c66f-4c5c-92b1-5fbc3a38fa51"
      },
      "source": [
        "#plotar parte dos dados para comparação\n",
        "d={}\n",
        "i = 0\n",
        "for rating in movies_ratings_filtrado[0::5000]:\n",
        "    id = movies_id_filtrado[i]\n",
        "    title = movies[movies['imdb_title_id'] == id]['title'].values\n",
        "    print('___________________________')\n",
        "    print(title)\n",
        "    print('score tabela = ' + str(rating) + '\\n')\n",
        "    print('score calculado = ' + str(novo_score[i]) + '\\n')\n",
        "    print('___________________________')\n",
        "    print('\\n')\n",
        "    i = i+5000\n",
        "\n",
        "\n",
        "    \n"
      ],
      "execution_count": null,
      "outputs": [
        {
          "output_type": "stream",
          "text": [
            "___________________________\n",
            "['The Shawshank Redemption']\n",
            "score tabela = 10\n",
            "\n",
            "score calculado = 10.0\n",
            "\n",
            "___________________________\n",
            "\n",
            "\n",
            "___________________________\n",
            "['The Godfather']\n",
            "score tabela = 10\n",
            "\n",
            "score calculado = 10.0\n",
            "\n",
            "___________________________\n",
            "\n",
            "\n",
            "___________________________\n",
            "['The Dark Knight']\n",
            "score tabela = 8\n",
            "\n",
            "score calculado = 9.9\n",
            "\n",
            "___________________________\n",
            "\n",
            "\n",
            "___________________________\n",
            "['Pulp Fiction']\n",
            "score tabela = 9\n",
            "\n",
            "score calculado = 9.1\n",
            "\n",
            "___________________________\n",
            "\n",
            "\n",
            "___________________________\n",
            "['Fight Club']\n",
            "score tabela = 3\n",
            "\n",
            "score calculado = 0.0\n",
            "\n",
            "___________________________\n",
            "\n",
            "\n",
            "___________________________\n",
            "['The Matrix']\n",
            "score tabela = 4\n",
            "\n",
            "score calculado = 9.9\n",
            "\n",
            "___________________________\n",
            "\n",
            "\n",
            "___________________________\n",
            "['Sen to Chihiro no kamikakushi']\n",
            "score tabela = 10\n",
            "\n",
            "score calculado = 7.0\n",
            "\n",
            "___________________________\n",
            "\n",
            "\n",
            "___________________________\n",
            "['Rear Window']\n",
            "score tabela = 6\n",
            "\n",
            "score calculado = 6.0\n",
            "\n",
            "___________________________\n",
            "\n",
            "\n",
            "___________________________\n",
            "['Nuovo Cinema Paradiso']\n",
            "score tabela = 7\n",
            "\n",
            "score calculado = 10.0\n",
            "\n",
            "___________________________\n",
            "\n",
            "\n",
            "___________________________\n",
            "['Oldeuboi']\n",
            "score tabela = 1\n",
            "\n",
            "score calculado = 0.3\n",
            "\n",
            "___________________________\n",
            "\n",
            "\n",
            "___________________________\n",
            "['Kimi no na wa.']\n",
            "score tabela = 8\n",
            "\n",
            "score calculado = 10.0\n",
            "\n",
            "___________________________\n",
            "\n",
            "\n",
            "___________________________\n",
            "['3 Idiots']\n",
            "score tabela = 6\n",
            "\n",
            "score calculado = 9.9\n",
            "\n",
            "___________________________\n",
            "\n",
            "\n"
          ],
          "name": "stdout"
        }
      ]
    },
    {
      "cell_type": "markdown",
      "metadata": {
        "id": "-5z9DOogi2MD"
      },
      "source": [
        "##Naive Bayes"
      ]
    },
    {
      "cell_type": "code",
      "metadata": {
        "id": "kmF0aoil5SjV"
      },
      "source": [
        "#pre processamento sinopses\n",
        "reviews_preprocessadas = [pre_text_processing (synopse) for synopse in movies_reviews['review_text'][0::100]]"
      ],
      "execution_count": null,
      "outputs": []
    },
    {
      "cell_type": "code",
      "metadata": {
        "id": "mq01zT1yupqK",
        "colab": {
          "base_uri": "https://localhost:8080/",
          "height": 34
        },
        "outputId": "6b18c725-feb5-40de-dab8-9f1747dd7769"
      },
      "source": [
        "len(reviews_preprocessadas)"
      ],
      "execution_count": null,
      "outputs": [
        {
          "output_type": "execute_result",
          "data": {
            "text/plain": [
              "5740"
            ]
          },
          "metadata": {
            "tags": []
          },
          "execution_count": 24
        }
      ]
    },
    {
      "cell_type": "code",
      "metadata": {
        "id": "KSlJ8R433dxm",
        "colab": {
          "base_uri": "https://localhost:8080/",
          "height": 119
        },
        "outputId": "c1cf3adc-b354-46df-919b-589d0e2c18d6"
      },
      "source": [
        "vect_bag = CountVectorizer()\n",
        "vect_bag"
      ],
      "execution_count": null,
      "outputs": [
        {
          "output_type": "execute_result",
          "data": {
            "text/plain": [
              "CountVectorizer(analyzer='word', binary=False, decode_error='strict',\n",
              "                dtype=<class 'numpy.int64'>, encoding='utf-8', input='content',\n",
              "                lowercase=True, max_df=1.0, max_features=None, min_df=1,\n",
              "                ngram_range=(1, 1), preprocessor=None, stop_words=None,\n",
              "                strip_accents=None, token_pattern='(?u)\\\\b\\\\w\\\\w+\\\\b',\n",
              "                tokenizer=None, vocabulary=None)"
            ]
          },
          "metadata": {
            "tags": []
          },
          "execution_count": 25
        }
      ]
    },
    {
      "cell_type": "code",
      "metadata": {
        "id": "p4rZ1UZb7Qz8"
      },
      "source": [
        "frases = []\n",
        "for review in reviews_preprocessadas:\n",
        "  frase = []\n",
        "  for palavra in review:\n",
        "    frase.append(palavra)\n",
        "  string = ' '.join(frase)\n",
        "  frases.append(string)  "
      ],
      "execution_count": null,
      "outputs": []
    },
    {
      "cell_type": "code",
      "metadata": {
        "id": "XC1apWJ8iwvY"
      },
      "source": [
        "docs_bag = vect_bag.fit_transform(frases)"
      ],
      "execution_count": null,
      "outputs": []
    },
    {
      "cell_type": "code",
      "metadata": {
        "id": "PKvKelJTzQ-l"
      },
      "source": [
        "docs_bag=docs_bag.toarray()"
      ],
      "execution_count": null,
      "outputs": []
    },
    {
      "cell_type": "code",
      "metadata": {
        "id": "J1pnxxEcq1DH"
      },
      "source": [
        "from sklearn.naive_bayes import GaussianNB"
      ],
      "execution_count": null,
      "outputs": []
    },
    {
      "cell_type": "code",
      "metadata": {
        "id": "GAya-9P7ocne"
      },
      "source": [
        "X_train, X_test, y_train, y_test = train_test_split(\n",
        "                                                    docs_bag,\n",
        "                                                    movies_reviews['is_spoiler'][0::100],\n",
        "                                                    random_state=0)\n"
      ],
      "execution_count": null,
      "outputs": []
    },
    {
      "cell_type": "code",
      "metadata": {
        "id": "WeDSV0OQny-u"
      },
      "source": [
        "gnb = GaussianNB()\n",
        "gnb.fit(X_train, y_train)\n",
        "y_pred = gnb.predict(X_test)"
      ],
      "execution_count": null,
      "outputs": []
    },
    {
      "cell_type": "code",
      "metadata": {
        "id": "Nr9XrLIE0UXN",
        "colab": {
          "base_uri": "https://localhost:8080/",
          "height": 34
        },
        "outputId": "c2710365-d82e-4c37-ade7-3653ffa3dbe8"
      },
      "source": [
        "print(\"Nº de erros da classificação {0} de {1}\".format((y_test != y_pred).sum(), docs_bag.shape[0]))"
      ],
      "execution_count": null,
      "outputs": [
        {
          "output_type": "stream",
          "text": [
            "Nº de erros da classificação 663 de 5740\n"
          ],
          "name": "stdout"
        }
      ]
    },
    {
      "cell_type": "code",
      "metadata": {
        "id": "jfw__3Tvo4tT",
        "colab": {
          "base_uri": "https://localhost:8080/",
          "height": 272
        },
        "outputId": "ef76f2bb-993a-48b4-e8da-b77e01f34072"
      },
      "source": [
        "print(\"------------------Estatísticas de treinamento------------------\")\n",
        "print(\"Acurácia:\", gnb.score(X_train, y_train))\n",
        "y_pred = gnb.predict(X_train)\n",
        "print(\"Acurácia de previsão:\", accuracy_score(y_train, y_pred))\n",
        "print(classification_report(y_train, \n",
        "                            y_pred, \n",
        "                            target_names=[\"True\", \"False\"]))\n",
        "\n",
        "cnf_matrix = confusion_matrix(y_train, y_pred)\n",
        "cnf_table = pd.DataFrame(data=cnf_matrix,\n",
        "                         index=[\"Is_Spoiler=False\", \"Is_Spoiler=True\"],\n",
        "                         columns=[\"Is_Spoiler(prev)=False\",\n",
        "                                  \"Prev. Is_Spoiler(prev)=True\"])\n",
        "print(cnf_table)\n"
      ],
      "execution_count": null,
      "outputs": [
        {
          "output_type": "stream",
          "text": [
            "------------------Estatísticas de treinamento------------------\n",
            "Acurácia: 0.9212543554006969\n",
            "Acurácia de previsão: 0.9212543554006969\n",
            "              precision    recall  f1-score   support\n",
            "\n",
            "        True       1.00      0.89      0.94      3181\n",
            "       False       0.77      1.00      0.87      1124\n",
            "\n",
            "    accuracy                           0.92      4305\n",
            "   macro avg       0.88      0.95      0.91      4305\n",
            "weighted avg       0.94      0.92      0.92      4305\n",
            "\n",
            "                  Is_Spoiler(prev)=False  Prev. Is_Spoiler(prev)=True\n",
            "Is_Spoiler=False                    2842                          339\n",
            "Is_Spoiler=True                        0                         1124\n"
          ],
          "name": "stdout"
        }
      ]
    },
    {
      "cell_type": "code",
      "metadata": {
        "id": "gPEa048ypuk4",
        "colab": {
          "base_uri": "https://localhost:8080/",
          "height": 323
        },
        "outputId": "a68e6ac9-c604-424a-a32b-a239bede55f9"
      },
      "source": [
        "print(\"\\n\\n------------------Estatísticas de teste------------------\")\n",
        "y_pred_test = gnb.predict(X_test)\n",
        "print(\"Acurácia de previsão:\", accuracy_score(y_test, y_pred_test))\n",
        "print(classification_report(y_test, \n",
        "                            y_pred_test, \n",
        "                             target_names=[\"True\", \"False\"]))\n",
        "\n",
        "cnf_matrix_test = confusion_matrix(y_test, y_pred_test)\n",
        "cnf_table_test = pd.DataFrame(data=cnf_matrix_test,\n",
        "                              index=[\"Is_Spoiler=False\", \"Is_Spoiler=True\"],\n",
        "                              columns=[\"Is_Spoiler(prev)=False\",\n",
        "                                  \"Prev. Is_Spoiler(prev)=True\"])\n",
        "print(cnf_table_test, '\\n\\n')"
      ],
      "execution_count": null,
      "outputs": [
        {
          "output_type": "stream",
          "text": [
            "\n",
            "\n",
            "------------------Estatísticas de teste------------------\n",
            "Acurácia de previsão: 0.537979094076655\n",
            "              precision    recall  f1-score   support\n",
            "\n",
            "        True       0.71      0.64      0.67      1061\n",
            "       False       0.20      0.25      0.22       374\n",
            "\n",
            "    accuracy                           0.54      1435\n",
            "   macro avg       0.45      0.45      0.45      1435\n",
            "weighted avg       0.57      0.54      0.55      1435\n",
            "\n",
            "                  Is_Spoiler(prev)=False  Prev. Is_Spoiler(prev)=True\n",
            "Is_Spoiler=False                     678                          383\n",
            "Is_Spoiler=True                      280                           94 \n",
            "\n",
            "\n"
          ],
          "name": "stdout"
        }
      ]
    }
  ]
}